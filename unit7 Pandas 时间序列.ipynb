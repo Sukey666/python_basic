{
 "cells": [
  {
   "cell_type": "code",
   "execution_count": 1,
   "metadata": {},
   "outputs": [],
   "source": [
    "#时间模块是系统模块\n",
    "import numpy as np\n",
    "import pandas as pd"
   ]
  },
  {
   "cell_type": "code",
   "execution_count": 3,
   "metadata": {},
   "outputs": [
    {
     "name": "stdout",
     "output_type": "stream",
     "text": [
      "2019-08-03 <class 'datetime.date'>\n",
      "2019-08-03\n",
      "2018-08-08\n"
     ]
    }
   ],
   "source": [
    "#datetime里面的date对象\n",
    "import datetime\n",
    "day = datetime.date.today()\n",
    "print(day,type(day))\n",
    "print(str(day)) #转换为字符串,但要聚类的时候还是时间格式方便\n",
    "\n",
    "date = datetime.date(2018,8,8) #转换为时间格式\n",
    "print(date)"
   ]
  },
  {
   "cell_type": "code",
   "execution_count": 24,
   "metadata": {},
   "outputs": [
    {
     "name": "stdout",
     "output_type": "stream",
     "text": [
      "2019-07-30 22:41:44.811441 <class 'datetime.datetime'>\n",
      "10:21:21 <class 'datetime.timedelta'>\n"
     ]
    }
   ],
   "source": [
    "#datetime模块里面datetime的方法\n",
    "t = datetime.datetime.now() #时刻\n",
    "print(t,type(t))\n",
    "\n",
    "t1 = datetime.datetime(2018,8,8)\n",
    "t2 = datetime.datetime(2018,8,8,10,21,21) #年月日时分秒，至少写年月日\n",
    "print(t2-t1,type(t2-t1)) #时间差"
   ]
  },
  {
   "cell_type": "code",
   "execution_count": 25,
   "metadata": {},
   "outputs": [
    {
     "name": "stdout",
     "output_type": "stream",
     "text": [
      "2013-01-09 00:00:00\n"
     ]
    }
   ],
   "source": [
    "#时间差timedelta 默认是天\n",
    "t3 = datetime.datetime(2012,10,1)\n",
    "t4 = datetime.timedelta(100) #加一百天\n",
    "print(t3+t4)"
   ]
  },
  {
   "cell_type": "code",
   "execution_count": 36,
   "metadata": {},
   "outputs": [
    {
     "name": "stdout",
     "output_type": "stream",
     "text": [
      "1994-10-23 00:00:00 <class 'datetime.datetime'>\n",
      "1994-10-23 00:00:00\n",
      "1994-10-23 00:00:00 \n",
      " 2019-10-23 06:00:00\n"
     ]
    }
   ],
   "source": [
    "#字符串转化为日期，什么格式都可以 dateutil日期转化格式\n",
    "from dateutil.parser import parse\n",
    "date = '10-23-1994'\n",
    "date2 = '10/23/1994'\n",
    "print(parse(date),type(parse(date)))\n",
    "print(parse(date2))\n",
    "\n",
    "print(parse('23/10/1994',dayfirst = True),'\\n', #日在前面\n",
    "     parse('Oct 23,1994 6:00 AM'))"
   ]
  },
  {
   "cell_type": "code",
   "execution_count": 40,
   "metadata": {},
   "outputs": [
    {
     "name": "stdout",
     "output_type": "stream",
     "text": [
      "2012-05-05 00:00:00 <class 'pandas._libs.tslibs.timestamps.Timestamp'>\n",
      "2011-10-01 15:00:00 <class 'pandas._libs.tslibs.timestamps.Timestamp'>\n",
      "2011-10-01 15:00:00 <class 'datetime.datetime'>\n"
     ]
    }
   ],
   "source": [
    "#时刻数据timestamp 时间点/时间戳 pandas模块\n",
    "date1 = '20120505' #可以用字符串创建\n",
    "date2 = datetime.datetime(2011,10,1,15,0)\n",
    "t1 = pd.Timestamp(date1)\n",
    "t2 = pd.Timestamp(date2)\n",
    "print(t1,type(t1))\n",
    "print(t2,type(t2))\n",
    "print(date2,type(date2))"
   ]
  },
  {
   "cell_type": "code",
   "execution_count": 49,
   "metadata": {},
   "outputs": [
    {
     "name": "stdout",
     "output_type": "stream",
     "text": [
      "2012-05-05 00:00:00 <class 'pandas._libs.tslibs.timestamps.Timestamp'>\n",
      "2011-10-01 15:00:00 <class 'pandas._libs.tslibs.timestamps.Timestamp'>\n",
      "DatetimeIndex(['2019-10-21', '2015-12-31'], dtype='datetime64[ns]', freq=None)\n",
      "['2019-10-21' 'haha' '2015-12-31']\n",
      "DatetimeIndex(['2019-10-21', 'NaT', '2015-12-31'], dtype='datetime64[ns]', freq=None)\n"
     ]
    }
   ],
   "source": [
    "#pd.to_datetime 转为时间戳索引\n",
    "t3 = pd.to_datetime(date1)\n",
    "t4 = pd.to_datetime(date2)\n",
    "print(t3,type(t3))\n",
    "print(t4,type(t4))\n",
    "\n",
    "date3 = ['2019-10-21','2015-12-31'] #多个时间数据转化成 DatetimeIndex 时间戳索引\n",
    "t5 = pd.to_datetime(date3)\n",
    "print(t5)\n",
    "\n",
    "date4 = ['2019-10-21','haha','2015-12-31']\n",
    "print(pd.to_datetime(date4,errors='ignore')) #无视错误 一般数组\n",
    "print(pd.to_datetime(date4,errors='coerce')) #缺失值 not a time  还是datetimeindex"
   ]
  },
  {
   "cell_type": "code",
   "execution_count": 59,
   "metadata": {},
   "outputs": [
    {
     "name": "stdout",
     "output_type": "stream",
     "text": [
      "DatetimeIndex(['2019-12-01', '2019-12-02', '2019-12-03', '2019-12-04'], dtype='datetime64[ns]', freq=None) <class 'pandas.core.indexes.datetimes.DatetimeIndex'>\n",
      "2019-12-01 00:00:00 <class 'pandas._libs.tslibs.timestamps.Timestamp'>\n",
      "2019-12-01    0.391392\n",
      "2019-12-02    0.733395\n",
      "2019-12-03    0.931686\n",
      "2019-12-04    0.058460\n",
      "dtype: float64 <class 'pandas.core.series.Series'>\n",
      "DatetimeIndex(['2019-12-01', '2019-12-02', '2019-12-03', '2019-12-04'], dtype='datetime64[ns]', freq=None)\n"
     ]
    }
   ],
   "source": [
    "#时间戳索引 DatetimeIndex\n",
    "#时间序列 TimeSeries\n",
    "date5 = pd.DatetimeIndex(['12/1/2019','12/2/2019','12/3/2019','12/4/2019'])\n",
    "print(date5,type(date5))\n",
    "print(date5[0],type(date5[0])) #第1个元素,及类型\n",
    "st = pd.Series(np.random.rand(4),\n",
    "              index = date5)\n",
    "print(st,type(st))\n",
    "print(st.index)"
   ]
  },
  {
   "cell_type": "code",
   "execution_count": 65,
   "metadata": {},
   "outputs": [
    {
     "name": "stdout",
     "output_type": "stream",
     "text": [
      "DatetimeIndex(['2019-01-02', '2019-01-03', '2019-01-04', '2019-01-05',\n",
      "               '2019-01-06', '2019-01-07', '2019-01-08', '2019-01-09',\n",
      "               '2019-01-10'],\n",
      "              dtype='datetime64[ns]', freq='D') <class 'pandas.core.indexes.datetimes.DatetimeIndex'>\n",
      "DatetimeIndex(['2019-01-01', '2019-01-02', '2019-01-03', '2019-01-04',\n",
      "               '2019-01-05', '2019-01-06', '2019-01-07', '2019-01-08',\n",
      "               '2019-01-09', '2019-01-10'],\n",
      "              dtype='datetime64[ns]', freq='D')\n",
      "DatetimeIndex(['2019-01-21 15:00:00', '2019-01-22 15:00:00',\n",
      "               '2019-01-23 15:00:00', '2019-01-24 15:00:00',\n",
      "               '2019-01-25 15:00:00', '2019-01-26 15:00:00',\n",
      "               '2019-01-27 15:00:00', '2019-01-28 15:00:00',\n",
      "               '2019-01-29 15:00:00', '2019-01-30 15:00:00'],\n",
      "              dtype='datetime64[ns]', freq='D')\n"
     ]
    }
   ],
   "source": [
    "#pd.date_range() 生成日期范围  默认频率是天\n",
    "#生成方式有2种：start+end，start/end+periods\n",
    "rng1 = pd.date_range('1/2/2019','1/10/2019',normalize = True) #零点零刻 normalize时间参数值正则化到午夜时间戳\n",
    "print(rng1,type(rng1))\n",
    "\n",
    "rng2 = pd.date_range(start = '1/1/2019',periods = 10) #给开始日期，要10天\n",
    "print(rng2)\n",
    "\n",
    "rng3 = pd.date_range(end = '1/30/2019 15:00:00',periods = 10) #给结束日期，要10天，加了时分秒\n",
    "print(rng3)\n",
    "\n",
    "# freq：频率，默认天，pd.date_range()默认频率为日历日，pd.bdate_range()默认频率为工作日"
   ]
  },
  {
   "cell_type": "code",
   "execution_count": 69,
   "metadata": {},
   "outputs": [
    {
     "name": "stdout",
     "output_type": "stream",
     "text": [
      "DatetimeIndex(['2019-01-01', '2019-01-02', '2019-01-03', '2019-01-04',\n",
      "               '2019-01-05'],\n",
      "              dtype='datetime64[ns]', freq='D')\n",
      "DatetimeIndex(['2019-01-02', '2019-01-03', '2019-01-04', '2019-01-05'], dtype='datetime64[ns]', freq='D')\n",
      "DatetimeIndex(['2019-01-01', '2019-01-02', '2019-01-03', '2019-01-04'], dtype='datetime64[ns]', freq='D')\n"
     ]
    }
   ],
   "source": [
    "#date_range closed\n",
    "print(pd.date_range('20190101','20190105'))\n",
    "print(pd.date_range('20190101','20190105',closed = 'right'))\n",
    "print(pd.date_range('20190101','20190105',closed = 'left')) #左闭右开"
   ]
  },
  {
   "cell_type": "code",
   "execution_count": 82,
   "metadata": {},
   "outputs": [
    {
     "name": "stdout",
     "output_type": "stream",
     "text": [
      "DatetimeIndex(['2019-01-01', '2019-01-02', '2019-01-03', '2019-01-04'], dtype='datetime64[ns]', freq='D')\n",
      "DatetimeIndex(['2019-01-01', '2019-01-02', '2019-01-03', '2019-01-04'], dtype='datetime64[ns]', freq='B')\n",
      "DatetimeIndex(['2019-01-01 00:00:00', '2019-01-01 01:00:00',\n",
      "               '2019-01-01 02:00:00', '2019-01-01 03:00:00',\n",
      "               '2019-01-01 04:00:00', '2019-01-01 05:00:00',\n",
      "               '2019-01-01 06:00:00', '2019-01-01 07:00:00',\n",
      "               '2019-01-01 08:00:00', '2019-01-01 09:00:00',\n",
      "               '2019-01-01 10:00:00', '2019-01-01 11:00:00',\n",
      "               '2019-01-01 12:00:00', '2019-01-01 13:00:00',\n",
      "               '2019-01-01 14:00:00', '2019-01-01 15:00:00',\n",
      "               '2019-01-01 16:00:00', '2019-01-01 17:00:00',\n",
      "               '2019-01-01 18:00:00', '2019-01-01 19:00:00',\n",
      "               '2019-01-01 20:00:00', '2019-01-01 21:00:00',\n",
      "               '2019-01-01 22:00:00', '2019-01-01 23:00:00',\n",
      "               '2019-01-02 00:00:00'],\n",
      "              dtype='datetime64[ns]', freq='H')\n",
      "DatetimeIndex(['2019-01-01 12:00:00', '2019-01-01 12:01:00',\n",
      "               '2019-01-01 12:02:00', '2019-01-01 12:03:00',\n",
      "               '2019-01-01 12:04:00', '2019-01-01 12:05:00',\n",
      "               '2019-01-01 12:06:00', '2019-01-01 12:07:00',\n",
      "               '2019-01-01 12:08:00', '2019-01-01 12:09:00',\n",
      "               '2019-01-01 12:10:00'],\n",
      "              dtype='datetime64[ns]', freq='T')\n",
      "DatetimeIndex(['2019-01-07', '2019-01-14', '2019-01-21', '2019-01-28'], dtype='datetime64[ns]', freq='W-MON')\n"
     ]
    }
   ],
   "source": [
    "#频率\n",
    "print(pd.date_range('2019/1/1','2019/1/4')) #默认freq为每日历日\n",
    "print(pd.date_range('2019/1/1','2019/1/6',freq = 'B')) #B：每工作日\n",
    "print(pd.date_range('2019/1/1','2019/1/2',freq = 'H')) #H：每小时\n",
    "print(pd.date_range('2019/1/1 12:00','2019/1/1 12:10',freq = 'MIN')) #T/MIN每分钟\n",
    "#S每秒，L每毫秒（千分之一秒），U每微秒（百万分之一秒）\n",
    "#日期缩写：MON,TUE,WED,THU,FRI,SAT,SUN\n",
    "\n",
    "print(pd.date_range('2019/1/1','2019/2/1',freq = 'W-MON')) #指定每周星期几\n",
    "print(pd.date_range('2019/1/1','2019/5/1', freq = 'WOM-2MON'))  \n",
    "# WOM-2MON：每月的第几个星期几开始算，这里是每月第二个星期一"
   ]
  },
  {
   "cell_type": "code",
   "execution_count": 84,
   "metadata": {},
   "outputs": [
    {
     "name": "stdout",
     "output_type": "stream",
     "text": [
      "DatetimeIndex(['2018-01-31', '2018-02-28', '2018-03-31', '2018-04-30',\n",
      "               '2018-05-31', '2018-06-30', '2018-07-31', '2018-08-31',\n",
      "               '2018-09-30', '2018-10-31', '2018-11-30', '2018-12-31'],\n",
      "              dtype='datetime64[ns]', freq='M')\n",
      "DatetimeIndex(['2018-03-31', '2018-06-30', '2018-09-30', '2018-12-31'], dtype='datetime64[ns]', freq='Q-DEC')\n"
     ]
    }
   ],
   "source": [
    "#日期范围，频率freq\n",
    "print(pd.date_range('2018','2019',freq = 'M')) #每月最后一个日历日\n",
    "print(pd.date_range('2018','2019',freq = 'Q-DEC')) #以12月为季度末，每季度最后一个月最后一个日历日\n",
    "\n",
    "#Q-月：指定月为季度末，每个季度末最后一月的最后一个日历日\n",
    "#A-月：每年指定月份的最后一个日历日\n",
    "# BM：每月最后一个工作日\n",
    "# BQ-月：指定月为季度末，每个季度末最后一月的最后一个工作日\n",
    "# BA-月：每年指定月份的最后一个工作日\n",
    "\n",
    "# MS：每月第一个日历日\n",
    "# QS-月：指定月为季度末，每个季度末最后一月的第一个日历日\n",
    "# AS-月：每年指定月份的第一个日历日\n",
    "# BMS：每月第一个工作日\n",
    "# BQS-月：指定月为季度末，每个季度末最后一月的第一个工作日\n",
    "# BAS-月：每年指定月份的第一个工作日\n",
    "\n",
    "# 复合参数：2个月 2M，7天 7D，2分30秒 2min30s\n"
   ]
  },
  {
   "cell_type": "code",
   "execution_count": 11,
   "metadata": {},
   "outputs": [
    {
     "name": "stdout",
     "output_type": "stream",
     "text": [
      "2019-01-01    0.507512\n",
      "2019-01-02    0.342950\n",
      "2019-01-03    0.518185\n",
      "2019-01-04    0.098177\n",
      "Freq: D, dtype: float64\n",
      "2019-01-01 00:00:00    0.507512\n",
      "2019-01-01 12:00:00    0.507512\n",
      "2019-01-02 00:00:00    0.342950\n",
      "2019-01-02 12:00:00    0.342950\n",
      "2019-01-03 00:00:00    0.518185\n",
      "2019-01-03 12:00:00    0.518185\n",
      "2019-01-04 00:00:00    0.098177\n",
      "Freq: 12H, dtype: float64\n",
      "2019-01-01 00:00:00    0.507512\n",
      "2019-01-01 12:00:00    0.342950\n",
      "2019-01-02 00:00:00    0.342950\n",
      "2019-01-02 12:00:00    0.518185\n",
      "2019-01-03 00:00:00    0.518185\n",
      "2019-01-03 12:00:00    0.098177\n",
      "2019-01-04 00:00:00    0.098177\n",
      "Freq: 12H, dtype: float64\n"
     ]
    }
   ],
   "source": [
    "# asfreq 频率转换\n",
    "ts = pd.Series(np.random.rand(4),\n",
    "              index = pd.date_range('20190101','20190104'))\n",
    "print(ts)\n",
    "print(ts.asfreq('12H',method = 'ffill')) #用前面的值填充\n",
    "print(ts.asfreq('12H',method = 'bfill')) #用后面的值填充\n",
    "# 改变频率，这里是D改为4H\n",
    "# method：插值模式，None不插值，ffill用之前值填充，bfill用之后值填充"
   ]
  },
  {
   "cell_type": "code",
   "execution_count": 19,
   "metadata": {},
   "outputs": [
    {
     "name": "stdout",
     "output_type": "stream",
     "text": [
      "2019-01-01    0.766173\n",
      "2019-01-02    0.461938\n",
      "2019-01-03    0.222986\n",
      "2019-01-04    0.358319\n",
      "2019-01-05    0.971426\n",
      "Freq: D, dtype: float64\n",
      "2019-01-01         NaN\n",
      "2019-01-02    0.766173\n",
      "2019-01-03    0.461938\n",
      "2019-01-04    0.222986\n",
      "2019-01-05    0.358319\n",
      "Freq: D, dtype: float64\n",
      "2019-01-01    0.461938\n",
      "2019-01-02    0.222986\n",
      "2019-01-03    0.358319\n",
      "2019-01-04    0.971426\n",
      "2019-01-05         NaN\n",
      "Freq: D, dtype: float64\n",
      "2019-01-01         NaN\n",
      "2019-01-02   -0.397084\n",
      "2019-01-03   -0.517281\n",
      "2019-01-04    0.606913\n",
      "2019-01-05    1.711066\n",
      "Freq: D, dtype: float64\n",
      "2019-01-02    0.766173\n",
      "2019-01-03    0.461938\n",
      "2019-01-04    0.222986\n",
      "2019-01-05    0.358319\n",
      "2019-01-06    0.971426\n",
      "Freq: D, dtype: float64\n"
     ]
    }
   ],
   "source": [
    "#超前/滞后数据 shift\n",
    "ts = pd.Series(np.random.rand(5),\n",
    "              index = pd.date_range('20190101','20190105'))\n",
    "print(ts)\n",
    "print(ts.shift(1)) #后移，滞后\n",
    "print(ts.shift(-1)) #前移，超前\n",
    "\n",
    "per = ts/ts.shift(1)-1\n",
    "print(per) #计算变化百分比\n",
    "\n",
    "print(ts.shift(1,freq = 'D')) #加上freq参数就是对时间戳进行位移"
   ]
  },
  {
   "cell_type": "code",
   "execution_count": 23,
   "metadata": {},
   "outputs": [
    {
     "name": "stdout",
     "output_type": "stream",
     "text": [
      "2019-01\n",
      "2019-02\n",
      "2018-12\n"
     ]
    }
   ],
   "source": [
    "#创建时期 Period\n",
    "p = pd.Period('2019',freq = 'M')\n",
    "print(p)\n",
    "print(p+1)\n",
    "print(p-1)\n",
    "# pd.Period()参数：一个时间戳 + freq 参数 → freq 用于指明该 period 的长度，时间戳则说明该 period 在时间轴上的位置"
   ]
  },
  {
   "cell_type": "code",
   "execution_count": 24,
   "metadata": {},
   "outputs": [
    {
     "name": "stdout",
     "output_type": "stream",
     "text": [
      "PeriodIndex(['2019-01', '2019-02', '2019-03', '2019-04', '2019-05', '2019-06',\n",
      "             '2019-07', '2019-08', '2019-09', '2019-10', '2019-11', '2019-12',\n",
      "             '2020-01'],\n",
      "            dtype='period[M]', freq='M')\n"
     ]
    }
   ],
   "source": [
    "#创建时间范围 period_range\n",
    "prng = pd.period_range('1/1/2019','1/1/2020',freq = 'M')\n",
    "print(prng)"
   ]
  },
  {
   "cell_type": "code",
   "execution_count": 27,
   "metadata": {},
   "outputs": [
    {
     "name": "stdout",
     "output_type": "stream",
     "text": [
      "2019-01    0.863753\n",
      "2019-02    0.538515\n",
      "2019-03    0.124507\n",
      "2019-04    0.897576\n",
      "2019-05    0.636315\n",
      "2019-06    0.600695\n",
      "2019-07    0.513758\n",
      "2019-08    0.628580\n",
      "2019-09    0.814997\n",
      "2019-10    0.725475\n",
      "2019-11    0.937110\n",
      "2019-12    0.178314\n",
      "2020-01    0.836082\n",
      "Freq: M, dtype: float64\n",
      "2019-01    0.856886\n",
      "2019-02    0.161615\n",
      "2019-03    0.743750\n",
      "2019-04    0.529480\n",
      "2019-05    0.116881\n",
      "2019-06    0.326871\n",
      "2019-07    0.904547\n",
      "2019-08    0.706849\n",
      "2019-09    0.030983\n",
      "2019-10    0.112990\n",
      "2019-11    0.809663\n",
      "2019-12    0.074604\n",
      "2020-01    0.197427\n",
      "Freq: M, dtype: float64\n"
     ]
    }
   ],
   "source": [
    "#索引\n",
    "ts = pd.Series(np.random.rand(13),\n",
    "              index = prng)\n",
    "print(ts)\n",
    "ts1 = pd.Series(np.random.rand(len(prng)), #len里面指时期的长度，也即13\n",
    "               index = prng)\n",
    "print(ts1)"
   ]
  },
  {
   "cell_type": "code",
   "execution_count": 37,
   "metadata": {},
   "outputs": [
    {
     "name": "stdout",
     "output_type": "stream",
     "text": [
      "2019\n",
      "2019-12\n",
      "2019-01\n",
      "2019-12-31\n"
     ]
    }
   ],
   "source": [
    "#频率转换 asfreq(时期的)\n",
    "p = pd.Period('2019')\n",
    "print(p)\n",
    "print(p.asfreq('M'))\n",
    "print(p.asfreq('M',how = 'start'))\n",
    "print(p.asfreq('D',how = 'end'))"
   ]
  },
  {
   "cell_type": "code",
   "execution_count": 43,
   "metadata": {},
   "outputs": [
    {
     "name": "stdout",
     "output_type": "stream",
     "text": [
      "PeriodIndex(['2019-01', '2019-02', '2019-03', '2019-04', '2019-05', '2019-06',\n",
      "             '2019-07', '2019-08', '2019-09', '2019-10', '2019-11', '2019-12',\n",
      "             '2020-01'],\n",
      "            dtype='period[M]', freq='M')\n",
      "PeriodIndex(['2019-01-31', '2019-02-28', '2019-03-31', '2019-04-30',\n",
      "             '2019-05-31', '2019-06-30', '2019-07-31', '2019-08-31',\n",
      "             '2019-09-30', '2019-10-31', '2019-11-30', '2019-12-31',\n",
      "             '2020-01-31'],\n",
      "            dtype='period[D]', freq='D')\n"
     ]
    }
   ],
   "source": [
    "#频率转换 asfreq(时间范围的)\n",
    "prng = pd.period_range('2019','2020',freq = 'M')\n",
    "print(prng)\n",
    "print(prng.asfreq('D'))"
   ]
  },
  {
   "cell_type": "code",
   "execution_count": 45,
   "metadata": {},
   "outputs": [
    {
     "name": "stdout",
     "output_type": "stream",
     "text": [
      "2019-01    0.607721\n",
      "2019-02    0.113630\n",
      "2019-03    0.804638\n",
      "2019-04    0.276423\n",
      "2019-05    0.906942\n",
      "Freq: M, dtype: float64\n",
      "2019-01-31    0.607721\n",
      "2019-02-28    0.113630\n",
      "2019-03-31    0.804638\n",
      "2019-04-30    0.276423\n",
      "2019-05-31    0.906942\n",
      "Freq: D, dtype: float64\n"
     ]
    }
   ],
   "source": [
    "#频率转换 asfreq(series中index的)\n",
    "prng = pd.Series(np.random.rand(5),\n",
    "              index = pd.period_range('201901','201905',freq = 'M'))\n",
    "print(prng)\n",
    "print(prng.asfreq('D'))"
   ]
  },
  {
   "cell_type": "code",
   "execution_count": 9,
   "metadata": {},
   "outputs": [
    {
     "name": "stdout",
     "output_type": "stream",
     "text": [
      "2019-01-31    0.767612\n",
      "2019-02-28    0.503177\n",
      "2019-03-31    0.507737\n",
      "2019-04-30    0.356140\n",
      "2019-05-31    0.748385\n",
      "Freq: M, dtype: float64\n",
      "2019-01    0.767612\n",
      "2019-02    0.503177\n",
      "2019-03    0.507737\n",
      "2019-04    0.356140\n",
      "2019-05    0.748385\n",
      "Freq: M, dtype: float64\n"
     ]
    }
   ],
   "source": [
    "#时间戳与时期之间的转换\n",
    "rng = pd.date_range('2019/1/1',periods = 10,freq = 'M' )\n",
    "ts = pd.Series(np.random.rand(len(rng)),\n",
    "              index = rng)\n",
    "print(ts.head())\n",
    "print(ts.to_period().head())\n",
    "# 每月最后一日，转化为每月"
   ]
  },
  {
   "cell_type": "code",
   "execution_count": 12,
   "metadata": {},
   "outputs": [
    {
     "name": "stdout",
     "output_type": "stream",
     "text": [
      "2019-01    0.718828\n",
      "2019-02    0.334107\n",
      "2019-03    0.803856\n",
      "2019-04    0.542088\n",
      "2019-05    0.167211\n",
      "Freq: M, dtype: float64\n",
      "2019-01-01    0.718828\n",
      "2019-02-01    0.334107\n",
      "2019-03-01    0.803856\n",
      "2019-04-01    0.542088\n",
      "2019-05-01    0.167211\n",
      "Freq: MS, dtype: float64\n"
     ]
    }
   ],
   "source": [
    "prng = pd.period_range('2019','2020',freq = 'M')\n",
    "ts = pd.Series(np.random.rand(len(prng)),\n",
    "              index = prng)\n",
    "print(ts.head())\n",
    "print(ts.to_timestamp().head())\n",
    "# 每月，转化为每月第一天"
   ]
  },
  {
   "cell_type": "code",
   "execution_count": 22,
   "metadata": {},
   "outputs": [
    {
     "name": "stdout",
     "output_type": "stream",
     "text": [
      "DatetimeIndex(['2019-01-01', '2019-01-02', '2019-01-03', '2019-01-04'], dtype='datetime64[ns]', freq='D')\n",
      "2019-01-01    0.609062\n",
      "2019-01-02    0.536789\n",
      "2019-01-03    0.434802\n",
      "2019-01-04    0.930539\n",
      "Freq: D, dtype: float64\n",
      "0.6090619517887491 <class 'numpy.float64'>\n",
      "2019-01-01    0.609062\n",
      "2019-01-02    0.536789\n",
      "Freq: D, dtype: float64 <class 'pandas.core.series.Series'>\n",
      "0.5367885325020396\n"
     ]
    }
   ],
   "source": [
    "#时间序列索引及切片 timeseries是series的子类\n",
    "from datetime import datetime\n",
    "rng = pd.date_range('20190101','20190104')\n",
    "print(rng)\n",
    "ts = pd.Series(np.random.rand(len(rng)),\n",
    "              index = rng)\n",
    "print(ts)\n",
    "print(ts[0],type(ts[0])) #第一个\n",
    "print(ts[:2],type(ts[:2]))\n",
    "#基本下标索引\n",
    "\n",
    "print(ts['20190102'])"
   ]
  },
  {
   "cell_type": "code",
   "execution_count": 27,
   "metadata": {},
   "outputs": [
    {
     "name": "stdout",
     "output_type": "stream",
     "text": [
      "2019-01-01 00:00:00    0.731206\n",
      "2019-01-01 12:00:00    0.557466\n",
      "2019-01-02 00:00:00    0.274083\n",
      "2019-01-02 12:00:00    0.143296\n",
      "Freq: 12H, dtype: float64\n",
      "2019-02-01 00:00:00    0.603616\n",
      "2019-02-01 12:00:00    0.727424\n",
      "2019-02-02 00:00:00    0.542043\n",
      "2019-02-02 12:00:00    0.897051\n",
      "2019-02-03 00:00:00    0.852135\n",
      "Freq: 12H, dtype: float64\n"
     ]
    }
   ],
   "source": [
    "#切片\n",
    "rng = pd.date_range('2019/1','2019/3',freq = '12H') \n",
    "ts = pd.Series(np.random.rand(len(rng)),\n",
    "              index = rng)\n",
    "print(ts['20190101':'20190102'])\n",
    "print(ts['2019/2'].head()) #日期写法区别？"
   ]
  },
  {
   "cell_type": "code",
   "execution_count": 11,
   "metadata": {},
   "outputs": [
    {
     "name": "stdout",
     "output_type": "stream",
     "text": [
      "2019-01-01    0.823664\n",
      "2019-01-02    0.764358\n",
      "2019-01-03    0.841092\n",
      "2019-01-01    0.578366\n",
      "2019-01-02    0.529978\n",
      "dtype: float64\n",
      "True\n",
      "False\n",
      "2019-01-01    0.701015\n",
      "2019-01-02    0.647168\n",
      "2019-01-03    0.841092\n",
      "dtype: float64\n",
      "2019-01-01    0.823664\n",
      "2019-01-01    0.578366\n",
      "dtype: float64\n"
     ]
    }
   ],
   "source": [
    "#重复索引的时间序列 is_unique\n",
    "dates = pd.DatetimeIndex(['1/1/2019','1/2/2019','1/3/2019','1/1/2019','1/2/2019'])\n",
    "ts = pd.Series(np.random.rand(5),index = dates)\n",
    "print(ts)\n",
    "print(ts.is_unique)\n",
    "print(ts.index.is_unique) #索引不唯一\n",
    "\n",
    "print(ts.groupby(level = 0).mean()) #重复值用均值处理\n",
    "\n",
    "print(ts['1/1/2019']) #因为重复值会返回多个值"
   ]
  },
  {
   "cell_type": "code",
   "execution_count": null,
   "metadata": {},
   "outputs": [],
   "source": [
    "#时间序列 重采样 将时间序列从一个频率转换为另一个频率的过程，且会有时间聚合\n",
    "#降采样：高频到低频\n",
    "#升采样：低频到高频\n",
    "\n"
   ]
  },
  {
   "cell_type": "code",
   "execution_count": null,
   "metadata": {},
   "outputs": [],
   "source": []
  }
 ],
 "metadata": {
  "kernelspec": {
   "display_name": "Python 3",
   "language": "python",
   "name": "python3"
  },
  "language_info": {
   "codemirror_mode": {
    "name": "ipython",
    "version": 3
   },
   "file_extension": ".py",
   "mimetype": "text/x-python",
   "name": "python",
   "nbconvert_exporter": "python",
   "pygments_lexer": "ipython3",
   "version": "3.7.1"
  }
 },
 "nbformat": 4,
 "nbformat_minor": 2
}
