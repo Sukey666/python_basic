{
 "cells": [
  {
   "cell_type": "code",
   "execution_count": 1,
   "metadata": {},
   "outputs": [
    {
     "name": "stdout",
     "output_type": "stream",
     "text": [
      "C:\\Users\\Administrator\\Desktop\\data\\text.txt\n"
     ]
    }
   ],
   "source": [
    "#文件对象的声明\n",
    "\n",
    "path1 = 'C:\\\\Users\\\\Administrator\\\\Desktop\\\\data\\\\text.txt'\n",
    "print(path1)"
   ]
  },
  {
   "cell_type": "code",
   "execution_count": 9,
   "metadata": {},
   "outputs": [
    {
     "name": "stdout",
     "output_type": "stream",
     "text": [
      "C:/Users/Administrator/Desktop/data/text.txt\n"
     ]
    }
   ],
   "source": [
    "path2 = 'C:/Users/Administrator/Desktop/data/text.txt' #按tab键会变成反斜杠\n",
    "print(path2)"
   ]
  },
  {
   "cell_type": "code",
   "execution_count": 4,
   "metadata": {},
   "outputs": [
    {
     "name": "stdout",
     "output_type": "stream",
     "text": [
      "C:\\Users\\Administrator\\Desktop\\data\\text.txt\n"
     ]
    }
   ],
   "source": [
    "path3 = r'C:\\Users\\Administrator\\Desktop\\data\\text.txt' #加r表示转义失效\n",
    "print(path3)"
   ]
  },
  {
   "cell_type": "code",
   "execution_count": 5,
   "metadata": {},
   "outputs": [
    {
     "name": "stdout",
     "output_type": "stream",
     "text": [
      "<class '_io.TextIOWrapper'>\n",
      "<_io.TextIOWrapper name='C:\\\\Users\\\\Administrator\\\\Desktop\\\\data\\\\text.txt' mode='r' encoding='UTF-8'>\n"
     ]
    }
   ],
   "source": [
    "#读取文件 open\n",
    "f = open(path3,'r', encoding='UTF-8') #encoding是编码，有中文就设置成UTF-8，没有中文可以不写encoding\n",
    "print(type(f)) \n",
    "print(f)\n",
    "# 'r'模式表示只读，'w'表示写"
   ]
  },
  {
   "cell_type": "code",
   "execution_count": 9,
   "metadata": {},
   "outputs": [
    {
     "name": "stdout",
     "output_type": "stream",
     "text": [
      "\n",
      "1 apple\n",
      "2 banana\n",
      "3 orange\n",
      "4 cherry\n",
      "5 pineapple\n",
      "6 watermelon\n"
     ]
    }
   ],
   "source": [
    "print(f.read())\n",
    "f.seek(0) #用seek再遍历一次文档，0表示从最开始的字符\n",
    "print(f.read())\n"
   ]
  },
  {
   "cell_type": "code",
   "execution_count": 1,
   "metadata": {},
   "outputs": [
    {
     "name": "stdout",
     "output_type": "stream",
     "text": [
      "nt\n",
      "C:\\Users\\Administrator\\Desktop\\unit1\n",
      "['.ipynb_checkpoints', 'unit1 基础.ipynb', 'unit2 数据类型与函数 切片迭代.ipynb', 'unit3 函数式编程.ipynb', 'unit4 模块.ipynb', 'unit5 数据读写.ipynb']\n",
      "('C:/Users/Administrator/Desktop/data', 'text.txt') <class 'tuple'>\n",
      "True\n"
     ]
    }
   ],
   "source": [
    "# OS模块\n",
    "import os\n",
    "print(os.name) #输出操作系统的名字\n",
    "print(os.getcwd()) #返回当前所在路径\n",
    "print(os.listdir()) #返回所有文件名\n",
    "#os.chdir('路径') 移动至该路径\n",
    "#os.remove('文件名') 删除\n",
    "\n",
    "s = os.path.split('C:/Users/Administrator/Desktop/data/text.txt')\n",
    "print(s,type(s)) #判断文件类型\n",
    "\n",
    "print(os.path.exists('C:/Users/Administrator/Desktop/data/text.txt')) #判断是否存在"
   ]
  },
  {
   "cell_type": "code",
   "execution_count": 12,
   "metadata": {},
   "outputs": [
    {
     "name": "stdout",
     "output_type": "stream",
     "text": [
      "1 apple\n",
      "2 banana\n",
      "3 orange\n",
      "4 cherry\n",
      "5 pineapple\n",
      "6 watermelon\n",
      "1 apple\n",
      "2 banana\n",
      "3 orange\n",
      "4 cherry\n",
      "5 pineapple\n",
      "6 watermelon\n",
      "1 apple\n",
      "2 banana\n",
      "3 orange\n",
      "4 cherry\n",
      "5 pineapple\n",
      "6 watermelon\n"
     ]
    }
   ],
   "source": [
    "#相对路径\n",
    "f1=open('C:/Users/Administrator/Desktop/data/text.txt','r',encoding='utf-8')\n",
    "print(f1.read())\n",
    "f2=open('../text.txt','r',encoding='utf-8') #相对路径，两点斜杠意思是在上级目录\n",
    "print(f2.read())\n",
    "f3=open('text3.txt','r',encoding='utf-8') #当前工作目录下可以直接写文件名\n",
    "print(f3.read())"
   ]
  },
  {
   "cell_type": "code",
   "execution_count": null,
   "metadata": {},
   "outputs": [],
   "source": []
  },
  {
   "cell_type": "code",
   "execution_count": null,
   "metadata": {},
   "outputs": [],
   "source": []
  },
  {
   "cell_type": "code",
   "execution_count": null,
   "metadata": {},
   "outputs": [],
   "source": []
  }
 ],
 "metadata": {
  "kernelspec": {
   "display_name": "Python 3",
   "language": "python",
   "name": "python3"
  },
  "language_info": {
   "codemirror_mode": {
    "name": "ipython",
    "version": 3
   },
   "file_extension": ".py",
   "mimetype": "text/x-python",
   "name": "python",
   "nbconvert_exporter": "python",
   "pygments_lexer": "ipython3",
   "version": "3.7.1"
  }
 },
 "nbformat": 4,
 "nbformat_minor": 2
}
