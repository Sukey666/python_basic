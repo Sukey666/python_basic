{
 "cells": [
  {
   "cell_type": "code",
   "execution_count": 1,
   "metadata": {},
   "outputs": [],
   "source": [
    "import numpy as np\n",
    "import pandas as pd"
   ]
  },
  {
   "cell_type": "code",
   "execution_count": null,
   "metadata": {},
   "outputs": [],
   "source": [
    "# 均值\n",
    "df = pd.DataFrame({'key1':[1,2,np.nan,5,4],\n",
    "              'key2':[5,2,1,np.nan,9],\n",
    "              'key3':[1,5,4,'i','j']},\n",
    "              index = ['a','b','c','d','e'])\n",
    "print(df)\n",
    "print(df.mean()) #平均\n",
    "print(df['key1'].mean()) #求单独一列平均\n",
    "\n",
    "print(df.mean(axis = 1))\n",
    "# axis参数：默认为0，以列来计算，axis=1，以行来计算，这里就按照行来汇总了\n",
    "\n",
    "print(df.mean(skipna = False))\n",
    "#True忽略nan，false不忽略nan"
   ]
  },
  {
   "cell_type": "code",
   "execution_count": null,
   "metadata": {},
   "outputs": [],
   "source": []
  }
 ],
 "metadata": {
  "kernelspec": {
   "display_name": "Python 3",
   "language": "python",
   "name": "python3"
  },
  "language_info": {
   "codemirror_mode": {
    "name": "ipython",
    "version": 3
   },
   "file_extension": ".py",
   "mimetype": "text/x-python",
   "name": "python",
   "nbconvert_exporter": "python",
   "pygments_lexer": "ipython3",
   "version": "3.7.1"
  }
 },
 "nbformat": 4,
 "nbformat_minor": 2
}
