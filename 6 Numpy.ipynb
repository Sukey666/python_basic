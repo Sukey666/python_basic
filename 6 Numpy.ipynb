{
 "cells": [
  {
   "cell_type": "code",
   "execution_count": 3,
   "metadata": {},
   "outputs": [
    {
     "name": "stdout",
     "output_type": "stream",
     "text": [
      "[1 2 3 4 5 6]\n",
      "[1 2 3 4 5 6] <class 'numpy.ndarray'>\n",
      "[1, 2, 3, 4, 5, 6]\n"
     ]
    },
    {
     "data": {
      "text/plain": [
       "array([1, 2, 3, 4, 5, 6])"
      ]
     },
     "execution_count": 3,
     "metadata": {},
     "output_type": "execute_result"
    }
   ],
   "source": [
    "#numpy\n",
    "import numpy as np  #下文np即numpy，改了模块名\n",
    "ar=np.array([1,2,3,4,5,6])\n",
    "print(ar)\n",
    "print(ar,type(ar)) #数组没有逗号\n",
    "print([1,2,3,4,5,6]) \n",
    "ar #不加print的输出效果"
   ]
  },
  {
   "cell_type": "code",
   "execution_count": 23,
   "metadata": {},
   "outputs": [
    {
     "name": "stdout",
     "output_type": "stream",
     "text": [
      "[[1 2 3]\n",
      " [2 3 4]\n",
      " [3 4 5]]\n",
      "2\n",
      "(3, 3)\n",
      "9\n",
      "<class 'numpy.ndarray'>\n",
      "int32\n",
      "4\n",
      "<memory at 0x000002264C9048B8>\n"
     ]
    }
   ],
   "source": [
    "#与数组相关的\n",
    "ar2=np.array([[1,2,3],[2,3,4],[3,4,5]])\n",
    "print(ar2)\n",
    "print(ar2.ndim) #轴的数量,即维度，三行二列的二维数组\n",
    "print(ar2.shape) #几行几列\n",
    "print(ar2.size) #元素的个数\n",
    "print(type(ar2))\n",
    "print(ar2.dtype) #数值的数据类型\n",
    "print(ar2.itemsize) #数值的字节大小\n",
    "print(ar2.data) #储存位置"
   ]
  },
  {
   "cell_type": "code",
   "execution_count": 17,
   "metadata": {},
   "outputs": [
    {
     "name": "stdout",
     "output_type": "stream",
     "text": [
      "[[[1 2 3]\n",
      "  [2 3 4]\n",
      "  [3 4 5]]]\n",
      "3\n",
      "(1, 3, 3)\n",
      "9\n"
     ]
    }
   ],
   "source": [
    "ar3=np.array([[[1,2,3],[2,3,4],[3,4,5]]])\n",
    "print(ar3)\n",
    "print(ar3.ndim) #三维数组是两个二维数组\n",
    "print(ar3.shape)\n",
    "print(ar3.size)"
   ]
  },
  {
   "cell_type": "code",
   "execution_count": 42,
   "metadata": {},
   "outputs": [
    {
     "name": "stdout",
     "output_type": "stream",
     "text": [
      "[0 1 2 3 4 5]\n",
      "[0 1 2 3 4 5]\n",
      "[0 1 2 3 4 5]\n",
      "[list([0, 1, 2, 3]) list(['a', 'b', 'c', 'd', 'e'])] <class 'numpy.ndarray'> 1\n",
      "[[8.83451987e-01 1.95330978e-01 1.86991510e-01 6.15682318e-01\n",
      "  7.57081074e-01]\n",
      " [2.64445378e-01 2.41732040e-01 3.04004043e-01 5.47910353e-02\n",
      "  1.83749695e-04]]\n"
     ]
    }
   ],
   "source": [
    "#创建数组，array()函数\n",
    "ar4 = np.array(range(6)) #生成器\n",
    "print(ar4)\n",
    "ar5 = np.arange(6)\n",
    "print(ar5)\n",
    "ar6 = np.array([0,1,2,3,4,5]) #直接写列表生成数组\n",
    "print(ar6)\n",
    "ar7 = np.array([[0,1,2,3],['a','b','c','d','e']])\n",
    "print(ar7,type(ar7),ar7.ndim) #数值个数不一样变成一维数组了\n",
    "print(np.random.rand(10).reshape(2,5)) #较常用随机数生成数组"
   ]
  },
  {
   "cell_type": "code",
   "execution_count": 50,
   "metadata": {},
   "outputs": [
    {
     "name": "stdout",
     "output_type": "stream",
     "text": [
      "[0 1 2 3 4 5 6 7 8 9]\n",
      "[3 4 5]\n",
      "[0. 1. 2. 3. 4. 5. 6. 7. 8. 9.]\n",
      "[3. 5.]\n",
      "[   0    1    2 ... 9997 9998 9999]\n"
     ]
    }
   ],
   "source": [
    "#arange函数与range相似\n",
    "print(np.arange(10)) #返回0-10整型\n",
    "print(np.arange(3,6)) #返回3-6整型，前闭后开\n",
    "print(np.arange(10.0)) #浮点型\n",
    "print(np.arange(3.0,6,2)) #步长为2\n",
    "print(np.arange(10000))"
   ]
  },
  {
   "cell_type": "code",
   "execution_count": 68,
   "metadata": {},
   "outputs": [
    {
     "name": "stdout",
     "output_type": "stream",
     "text": [
      "[10. 11. 12. 13. 14. 15. 16. 17. 18. 19. 20.]\n",
      "[10. 11. 12. 13. 14. 15. 16. 17. 18. 19.]\n",
      "[10.         11.11111111 12.22222222 13.33333333 14.44444444 15.55555556\n",
      " 16.66666667 17.77777778 18.88888889 20.        ]\n",
      "(array([10., 11., 12., 13., 14., 15., 16., 17., 18., 19., 20.]), 1.0)\n"
     ]
    }
   ],
   "source": [
    "#linspace\n",
    "print(np.linspace(10,20,num=11)) #均匀取11个样本\n",
    "print(np.linspace(10,20,num=10,endpoint = False)) #最后一个值不包含,，即[10,20)\n",
    "print(np.linspace(10,20,num=10,endpoint = True)) #包含最后一个值，即[10,20]\n",
    "print(np.linspace(10,20,num=11,retstep=True)) #显示步长，变成元组了"
   ]
  },
  {
   "cell_type": "code",
   "execution_count": 80,
   "metadata": {},
   "outputs": [
    {
     "name": "stdout",
     "output_type": "stream",
     "text": [
      "[0. 0. 0. 0. 0.]\n",
      "[[0. 0. 0. 0. 0.]\n",
      " [0. 0. 0. 0. 0.]]\n",
      "[[0 0 0 0 0]\n",
      " [0 0 0 0 0]]\n",
      "[[ 0  1  2  3  4]\n",
      " [ 6  7  8  9 10]]\n",
      "[[0 0 0 0 0]\n",
      " [0 0 0 0 0]]\n"
     ]
    }
   ],
   "source": [
    "#zeros,zeros_like\n",
    "print(np.zeros(5))\n",
    "print(np.zeros((2,5)))\n",
    "print(np.zeros((2,5),dtype=int))\n",
    "ar8 = np.array([list(range(5)),list(range(6,11))])\n",
    "ar9 = np.zeros_like(ar8)\n",
    "print(ar8)\n",
    "print(ar9)"
   ]
  },
  {
   "cell_type": "code",
   "execution_count": 82,
   "metadata": {},
   "outputs": [
    {
     "name": "stdout",
     "output_type": "stream",
     "text": [
      "[1. 1. 1. 1.]\n",
      "[[1 1 1 1 1]\n",
      " [1 1 1 1 1]]\n"
     ]
    }
   ],
   "source": [
    "#ones,ones_like,填充为1\n",
    "print(np.ones(4))\n",
    "print(np.ones_like(ar8))"
   ]
  },
  {
   "cell_type": "code",
   "execution_count": 84,
   "metadata": {},
   "outputs": [
    {
     "name": "stdout",
     "output_type": "stream",
     "text": [
      "[[1. 0. 0. 0. 0.]\n",
      " [0. 1. 0. 0. 0.]\n",
      " [0. 0. 1. 0. 0.]\n",
      " [0. 0. 0. 1. 0.]\n",
      " [0. 0. 0. 0. 1.]]\n"
     ]
    }
   ],
   "source": [
    "#eye\n",
    "print(np.eye(5)) #正方形矩阵，对角线值为1，其余为0"
   ]
  },
  {
   "cell_type": "code",
   "execution_count": 99,
   "metadata": {},
   "outputs": [
    {
     "name": "stdout",
     "output_type": "stream",
     "text": [
      "[0 1 2 3 4 5 6 7 8 9]\n",
      "[0 1 2 3 4 5 6 7 8 9]\n",
      "[[0 1 2 3 4]\n",
      " [5 6 7 8 9]]\n",
      "[[0. 0. 0. 0. 0.]\n",
      " [0. 0. 0. 0. 0.]]\n",
      "[[0. 0.]\n",
      " [0. 0.]\n",
      " [0. 0.]\n",
      " [0. 0.]\n",
      " [0. 0.]]\n",
      "[[0. 0.]\n",
      " [0. 0.]\n",
      " [0. 0.]\n",
      " [0. 0.]\n",
      " [0. 0.]]\n",
      "[[1. 1. 1. 1.]\n",
      " [1. 1. 1. 1.]\n",
      " [1. 1. 1. 1.]]\n",
      "[[0. 0.]\n",
      " [0. 0.]\n",
      " [0. 0.]\n",
      " [0. 0.]\n",
      " [0. 0.]]\n",
      "[[0 1 2]\n",
      " [3 4 5]\n",
      " [6 7 8]]\n"
     ]
    }
   ],
   "source": [
    "#数组转置，reshape更改数组形状\n",
    "ar10 = np.arange(10)\n",
    "print(ar10)\n",
    "print(ar10.T) #一维数组转置不变\n",
    "\n",
    "ar11 = np.zeros((2,5)) \n",
    "print(ar11)\n",
    "print(ar11.T)#二维数组转置\n",
    "\n",
    "print(ar10.reshape(2,5)) #改变一维数组数组形状\n",
    "print(ar11.reshape(5,2)) #改变二维数组形状，元素数量需相同\n",
    "\n",
    "print(np.ones((2,6)).reshape(3,4)) #不同写法，可数组接方法，可方法里写数组\n",
    "print(np.reshape(ar11,(5,2))) \n",
    "print(np.reshape(range(9),(3,3)))"
   ]
  },
  {
   "cell_type": "code",
   "execution_count": 112,
   "metadata": {},
   "outputs": [
    {
     "name": "stdout",
     "output_type": "stream",
     "text": [
      "[[0 1 2]\n",
      " [0 1 2]\n",
      " [0 1 2]]\n",
      "[[0 1 2]\n",
      " [3 4 5]\n",
      " [6 7 8]]\n",
      "[0 1 2 3 4 5 6 7 8 9] [0 8 2 3 4 5 6 7 8 9]\n",
      "None\n",
      "[[ 6  7  8]\n",
      " [ 9 10 11]]\n"
     ]
    }
   ],
   "source": [
    "#resize\n",
    "print(np.resize(np.arange(3),(3,3))) #元素不够，会默认排序\n",
    "print(np.resize(np.arange(15),(3,3))) #元素多了，会依次迭代\n",
    "\n",
    "#原数组不会变，np接reshape/resize是生成新的数组，用copy也是生成新的数组\n",
    "ar12 = ar10.copy()\n",
    "ar12[1]=8\n",
    "print(ar10,ar12)\n",
    "\n",
    "#但数组后面直接接resize会直接作用于数组\n",
    "ar13 = np.arange(6,12)\n",
    "print(ar13.resize(2,3)) #print为none说明可能作用于原数组\n",
    "print(ar13)"
   ]
  },
  {
   "cell_type": "code",
   "execution_count": 124,
   "metadata": {},
   "outputs": [
    {
     "name": "stdout",
     "output_type": "stream",
     "text": [
      "[0. 1. 2. 3. 4. 5. 6. 7. 8. 9.] float64\n",
      "[0 1 2 3 4 5 6 7 8 9] int64\n"
     ]
    }
   ],
   "source": [
    "#astype 改类型\n",
    "ar14 = np.arange(10,dtype = float)\n",
    "print(ar14,ar14.dtype)\n",
    "ar15 = ar14.astype(np.int64)\n",
    "print(ar15,ar15.dtype)"
   ]
  },
  {
   "cell_type": "code",
   "execution_count": 17,
   "metadata": {},
   "outputs": [
    {
     "name": "stdout",
     "output_type": "stream",
     "text": [
      "[0 1 2 3 4 3 4 5 6 7]\n",
      "[[0 1 2 3 4]\n",
      " [3 4 5 6 7]]\n",
      "[['1' 'a']\n",
      " ['2' 'b']\n",
      " ['3' 'c']]\n",
      "[['1']\n",
      " ['2']\n",
      " ['3']\n",
      " ['a']\n",
      " ['b']\n",
      " ['c']]\n"
     ]
    }
   ],
   "source": [
    "#数组的堆叠，hstack横向的连接，vstack竖向的连接 \n",
    "ar16 = np.arange(5)\n",
    "ar17 = np.arange(3,8)\n",
    "print(np.hstack((ar16,ar17)))\n",
    "print(np.vstack((ar16,ar17)))\n",
    "ar18 = np.array([[1],[2],[3]])\n",
    "ar19 = np.array([['a'],['b'],['c']])\n",
    "print(np.hstack((ar18,ar19)))\n",
    "print(np.vstack((ar18,ar19)))"
   ]
  },
  {
   "cell_type": "code",
   "execution_count": 23,
   "metadata": {},
   "outputs": [
    {
     "name": "stdout",
     "output_type": "stream",
     "text": [
      "[[0 3]\n",
      " [1 4]\n",
      " [2 5]\n",
      " [3 6]\n",
      " [4 7]]\n"
     ]
    }
   ],
   "source": [
    "#stack\n",
    "print(np.stack((ar16,ar17),axis=1)) #axis轴"
   ]
  },
  {
   "cell_type": "code",
   "execution_count": 31,
   "metadata": {},
   "outputs": [
    {
     "name": "stdout",
     "output_type": "stream",
     "text": [
      "[[ 0  1  2  3]\n",
      " [ 4  5  6  7]\n",
      " [ 8  9 10 11]\n",
      " [12 13 14 15]]\n",
      "[array([[ 0,  1,  2,  3],\n",
      "       [ 4,  5,  6,  7],\n",
      "       [ 8,  9, 10, 11],\n",
      "       [12, 13, 14, 15]])]\n",
      "[[ 0  1]\n",
      " [ 4  5]\n",
      " [ 8  9]\n",
      " [12 13]]\n",
      "[[0 1 2 3]\n",
      " [4 5 6 7]]\n"
     ]
    }
   ],
   "source": [
    "#数组拆分 split\n",
    "ar20 = np.arange(16).reshape(4,4)\n",
    "print(ar20)\n",
    "print(np.hsplit(ar20,1))\n",
    "print(np.hsplit(ar20,2)[0])\n",
    "print(np.vsplit(ar20,2)[0])"
   ]
  },
  {
   "cell_type": "code",
   "execution_count": null,
   "metadata": {},
   "outputs": [],
   "source": []
  },
  {
   "cell_type": "code",
   "execution_count": 41,
   "metadata": {},
   "outputs": [
    {
     "name": "stdout",
     "output_type": "stream",
     "text": [
      "[[ 0  5 10]\n",
      " [15 20 25]\n",
      " [30 35 40]]\n",
      "[[10 11 12]\n",
      " [13 14 15]\n",
      " [16 17 18]]\n",
      "[[1.         0.5        0.33333333]\n",
      " [0.25       0.2        0.16666667]\n",
      " [0.14285714 0.125      0.11111111]]\n",
      "[[ 0  1  4]\n",
      " [ 9 16 25]\n",
      " [36 49 64]]\n"
     ]
    }
   ],
   "source": [
    "#数组运算 加减乘除\n",
    "ar21 = np.arange(9).reshape(3,3)\n",
    "print(ar21*5) #乘法\n",
    "print(ar21+10)\n",
    "print(1/(ar21+1)) #除法\n",
    "print(ar21**2) #幂"
   ]
  },
  {
   "cell_type": "code",
   "execution_count": 53,
   "metadata": {
    "scrolled": true
   },
   "outputs": [
    {
     "name": "stdout",
     "output_type": "stream",
     "text": [
      "8\n",
      "0\n",
      "2.581988897471611\n",
      "6.666666666666667\n",
      "4.0\n",
      "36\n",
      "[ 9 12 15]\n",
      "[ 3 12 21]\n",
      "[2 3 5 8]\n",
      "[[0 1 2]\n",
      " [3 4 5]\n",
      " [6 7 8]]\n"
     ]
    }
   ],
   "source": [
    "# 常用函数 （关系型表格）\n",
    "print(ar21.max()) #求最大值\n",
    "print(ar21.min()) #求最小值\n",
    "print(ar21.std()) #求标准差\n",
    "print(ar21.var()) #求方差\n",
    "print(ar21.mean()) #求平均\n",
    "print(ar21.sum()) \n",
    "print(np.sum(ar21,axis=0)) #按列求和\n",
    "print(np.sum(ar21,axis=1)) #按行求和\n",
    "print(np.sort(np.array([5,3,2,8]))) #排序\n",
    "print(np.sort(ar21))"
   ]
  },
  {
   "cell_type": "code",
   "execution_count": 23,
   "metadata": {},
   "outputs": [
    {
     "name": "stdout",
     "output_type": "stream",
     "text": [
      "[ 0  1  2  3  4  5  6  7  8  9 10 11 12 13 14 15 16 17 18 19]\n",
      "5\n",
      "[0 1 2 3 4]\n",
      "[ 0  3  6  9 12 15 18]\n",
      "[3 4 5 6 7]\n",
      "-----------\n",
      "[[ 0  1  2  3]\n",
      " [ 4  5  6  7]\n",
      " [ 8  9 10 11]\n",
      " [12 13 14 15]]\n",
      "[ 8  9 10 11]\n",
      "10\n",
      "10\n",
      "[[ 4  5  6  7]\n",
      " [ 8  9 10 11]]\n",
      "[[0 1]\n",
      " [4 5]]\n",
      "[[2 3]\n",
      " [6 7]]\n",
      "-----------\n"
     ]
    }
   ],
   "source": [
    "#索引及切片\n",
    "ar22 = np.arange(20) #一维的,与列表一样\n",
    "print(ar22)\n",
    "print(ar22[5]) #第五个值\n",
    "print(ar22[:5]) #0到5\n",
    "print(ar22[::3]) #从头到尾，以步长为3取值\n",
    "print(ar22[3:8])\n",
    "print('-----------')\n",
    "ar23 = np.arange(16).reshape(4,4) #二维的,先行后列\n",
    "print(ar23)\n",
    "print(ar23[2]) #第三行\n",
    "print(ar23[2][2]) #第三行的第三个值\n",
    "print(ar23[2,2])\n",
    "print(ar23[1:3]) #第二行到第三行\n",
    "print(ar23[:2,:2])\n",
    "print(ar23[:2,2:]) #倒数第二列\n",
    "print('-----------')\n"
   ]
  },
  {
   "cell_type": "code",
   "execution_count": 30,
   "metadata": {},
   "outputs": [
    {
     "name": "stdout",
     "output_type": "stream",
     "text": [
      "[[[ 0  1]\n",
      "  [ 2  3]]\n",
      "\n",
      " [[ 4  5]\n",
      "  [ 6  7]]\n",
      "\n",
      " [[ 8  9]\n",
      "  [10 11]]]\n",
      "3\n",
      "[6 7]\n",
      "[[4 5]\n",
      " [6 7]]\n"
     ]
    }
   ],
   "source": [
    "#三维数组的索引及切片\n",
    "ar24 = np.arange(12).reshape(3,2,2) #3个二位数组\n",
    "print(ar24)\n",
    "\n",
    "print(ar24[0,1,1]) #三维三个参数\n",
    "print(ar24[1,1]) #第2个二维数组第2行\n",
    "print(ar24[1]) #第2个二维数组"
   ]
  },
  {
   "cell_type": "code",
   "execution_count": 39,
   "metadata": {},
   "outputs": [
    {
     "name": "stdout",
     "output_type": "stream",
     "text": [
      "[[ 0  1  2  3]\n",
      " [ 4  5  6  7]\n",
      " [ 8  9 10 11]]\n",
      "[[0 1 2 3]\n",
      " [4 5 6 7]]\n",
      "[0 5]\n",
      "[[0 1]\n",
      " [4 5]\n",
      " [8 9]]\n"
     ]
    }
   ],
   "source": [
    "#布尔型索引及切片 重要\n",
    "ar25 = np.arange(12).reshape(3,4)\n",
    "print(ar25)\n",
    "i = np.array([True,True,False])\n",
    "j = np.array([True,True,False,False])\n",
    "print(ar25[i,:])\n",
    "print(ar25[i,j]) #只保留true\n",
    "print(ar25[:,j])"
   ]
  },
  {
   "cell_type": "code",
   "execution_count": 42,
   "metadata": {},
   "outputs": [
    {
     "name": "stdout",
     "output_type": "stream",
     "text": [
      "[[False False False False]\n",
      " [False False  True  True]\n",
      " [ True  True  True  True]] <class 'numpy.ndarray'>\n",
      "[ 6  7  8  9 10 11]\n"
     ]
    }
   ],
   "source": [
    "#判断\n",
    "print(ar25>5,type(ar25>5))\n",
    "print(ar25[ar25>5])"
   ]
  },
  {
   "cell_type": "code",
   "execution_count": 52,
   "metadata": {},
   "outputs": [
    {
     "name": "stdout",
     "output_type": "stream",
     "text": [
      "[0 1 2 3 4 5 6 7 8 9]\n",
      "[  0 100   2   3   4   5   6   7   8   9]\n",
      "[  0 100   2   3   4   5 600 600   8   9]\n",
      "[0 1 2 3 4 5 6 7 8]\n",
      "[ 0  1  2  3  4  5 66 66  8]\n"
     ]
    }
   ],
   "source": [
    "#更改/复制\n",
    "ar26 = np.arange(10)\n",
    "print(ar26)\n",
    "ar26[1] = 100\n",
    "print(ar26)\n",
    "ar26[6:8] = 600\n",
    "print(ar26)\n",
    "ar27 = np.arange(9)\n",
    "print(ar27)\n",
    "b = ar27.copy()\n",
    "b[6:8] = 66\n",
    "print(b)"
   ]
  },
  {
   "cell_type": "code",
   "execution_count": 60,
   "metadata": {},
   "outputs": [
    {
     "name": "stdout",
     "output_type": "stream",
     "text": [
      "0.623242254734003\n",
      "[0.30731756 0.40284083 0.528766   0.07775447]\n",
      "[[0.57415915 0.21440783 0.06941893]\n",
      " [0.17788833 0.74046556 0.87459906]\n",
      " [0.06976365 0.019238   0.39388692]]\n",
      "[[ 0.4000121  -1.02425761]\n",
      " [ 0.15184488  0.01823695]]\n"
     ]
    }
   ],
   "source": [
    "#随机数\n",
    "a = np.random.rand() #什么也不写生成一个值\n",
    "print(a)\n",
    "a = np.random.rand(4) #一维数组\n",
    "print(a)\n",
    "a = np.random.rand(3,3) #二维数组\n",
    "print(a)\n",
    "print(np.random.normal(size=(2,2))) #normal正态分布的样本值"
   ]
  },
  {
   "cell_type": "code",
   "execution_count": 64,
   "metadata": {},
   "outputs": [
    {
     "data": {
      "text/plain": [
       "<matplotlib.collections.PathCollection at 0x2519ada6630>"
      ]
     },
     "execution_count": 64,
     "metadata": {},
     "output_type": "execute_result"
    },
    {
     "data": {
      "image/png": "[encoded data removed]",
      "text/plain": [
       "<Figure size 432x288 with 1 Axes>"
      ]
     },
     "metadata": {
      "needs_background": "light"
     },
     "output_type": "display_data"
    }
   ],
   "source": [
    "data1 = np.random.rand(1000)\n",
    "data2 = np.random.rand(1000)\n",
    "import matplotlib.pyplot as plt\n",
    "%matplotlib inline\n",
    "plt.scatter (data1,data2) #随机分布"
   ]
  },
  {
   "cell_type": "code",
   "execution_count": 66,
   "metadata": {},
   "outputs": [
    {
     "data": {
      "text/plain": [
       "<matplotlib.collections.PathCollection at 0x2519b168f98>"
      ]
     },
     "execution_count": 66,
     "metadata": {},
     "output_type": "execute_result"
    },
    {
     "data": {
      "image/png": "[encoded data removed]",
      "text/plain": [
       "<Figure size 432x288 with 1 Axes>"
      ]
     },
     "metadata": {
      "needs_background": "light"
     },
     "output_type": "display_data"
    }
   ],
   "source": [
    "data3 = np.random.randn(1000) \n",
    "data4 = np.random.randn(1000)\n",
    "plt.scatter(data3,data4) #正态分布"
   ]
  },
  {
   "cell_type": "code",
   "execution_count": 74,
   "metadata": {},
   "outputs": [
    {
     "name": "stdout",
     "output_type": "stream",
     "text": [
      "1\n",
      "9\n",
      "[2 3 2 2]\n",
      "[[1 0]\n",
      " [2 0]]\n",
      "[[ 8  7  9]\n",
      " [10 16 18]\n",
      " [12  6 18]]\n"
     ]
    }
   ],
   "source": [
    "print(np.random.randint(2)) # internal区间\n",
    "print(np.random.randint(2,10))\n",
    "print(np.random.randint(4,size=4))\n",
    "print(np.random.randint(4,size=(2,2)))\n",
    "print(np.random.randint(4,20,size=(3,3)))"
   ]
  },
  {
   "cell_type": "code",
   "execution_count": null,
   "metadata": {},
   "outputs": [],
   "source": []
  },
  {
   "cell_type": "code",
   "execution_count": null,
   "metadata": {},
   "outputs": [],
   "source": []
  }
 ],
 "metadata": {
  "kernelspec": {
   "display_name": "Python 3",
   "language": "python",
   "name": "python3"
  },
  "language_info": {
   "codemirror_mode": {
    "name": "ipython",
    "version": 3
   },
   "file_extension": ".py",
   "mimetype": "text/x-python",
   "name": "python",
   "nbconvert_exporter": "python",
   "pygments_lexer": "ipython3",
   "version": "3.7.1"
  }
 },
 "nbformat": 4,
 "nbformat_minor": 2
}
