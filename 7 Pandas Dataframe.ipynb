{
 "cells": [
  {
   "cell_type": "code",
   "execution_count": 73,
   "metadata": {},
   "outputs": [],
   "source": [
    "import numpy as np\n",
    "import pandas as pd"
   ]
  },
  {
   "cell_type": "code",
   "execution_count": 16,
   "metadata": {},
   "outputs": [
    {
     "name": "stdout",
     "output_type": "stream",
     "text": [
      "    name  age gender\n",
      "0   Jack   18      a\n",
      "1    Tom   19      b\n",
      "2  Janny   13      c <class 'pandas.core.frame.DataFrame'>\n",
      "RangeIndex(start=0, stop=3, step=1) \n",
      "数据类型为： <class 'pandas.core.indexes.range.RangeIndex'>\n",
      "Index(['name', 'age', 'gender'], dtype='object') <class 'pandas.core.indexes.base.Index'>\n",
      "[['Jack' 18 'a']\n",
      " ['Tom' 19 'b']\n",
      " ['Janny' 13 'c']] <class 'numpy.ndarray'>\n"
     ]
    }
   ],
   "source": [
    "#Dataframe 二维数组\n",
    "d = {'name':['Jack','Tom','Janny'],\n",
    "    'age':[18,19,13],\n",
    "    'gender':['a','b','c']}\n",
    "f = pd.DataFrame(d)\n",
    "print(f,type(f))\n",
    "# index行标签 columns列标签\n",
    "print(f.index,'\\n数据类型为：',type(f.index))\n",
    "print(f.columns,type(f.columns))\n",
    "print(f.values,type(f.values))\n"
   ]
  },
  {
   "cell_type": "code",
   "execution_count": 11,
   "metadata": {},
   "outputs": [
    {
     "name": "stdout",
     "output_type": "stream",
     "text": [
      "{'a': [1, 2, 3], 'b': [4, 5, 6], 'c': [7, 8, 9]}\n",
      "   a  b  c\n",
      "a  1  4  7\n",
      "b  2  5  8\n",
      "c  3  6  9\n"
     ]
    }
   ],
   "source": [
    "#由数组list组成的字典创建\n",
    "data1 = {'a':[1,2,3],\n",
    "        'b':[4,5,6],\n",
    "        'c':[7,8,9]} #key就是列名\n",
    "print(data1)\n",
    "d1 = pd.DataFrame(data1, index = ['a','b','c'])\n",
    "print(d1)"
   ]
  },
  {
   "cell_type": "code",
   "execution_count": 10,
   "metadata": {},
   "outputs": [
    {
     "name": "stdout",
     "output_type": "stream",
     "text": [
      "{'one': array([0.83413524, 0.95156078, 0.95080614]), 'two': array([0.41606603, 0.2542471 , 0.95293961])}\n",
      "        one       two\n",
      "0  0.834135  0.416066\n",
      "1  0.951561  0.254247\n",
      "2  0.950806  0.952940\n"
     ]
    }
   ],
   "source": [
    "#由数组 组成的字典创建\n",
    "data2 = {'one':np.random.rand(3),\n",
    "        'two':np.random.rand(3)}\n",
    "print(data2)\n",
    "d2 = pd.DataFrame(data2)\n",
    "print(d2)"
   ]
  },
  {
   "cell_type": "code",
   "execution_count": 9,
   "metadata": {},
   "outputs": [
    {
     "name": "stdout",
     "output_type": "stream",
     "text": [
      "        one       two\n",
      "0  0.492403  0.197333\n",
      "1  0.855147  0.911333\n",
      "2  0.045671  0.408308\n",
      "3       NaN  0.183352\n"
     ]
    }
   ],
   "source": [
    "#由Series组成的字典创建\n",
    "data3 = {'one':pd.Series(np.random.rand(3)),\n",
    "         'two':pd.Series(np.random.rand(4))} #没有设置index的series\n",
    "d1 = pd.DataFrame(data3)\n",
    "print(d1)\n",
    "#长度可以不一样，会生成空值NaN"
   ]
  },
  {
   "cell_type": "code",
   "execution_count": 20,
   "metadata": {},
   "outputs": [
    {
     "name": "stdout",
     "output_type": "stream",
     "text": [
      "{'a': a    0.279846\n",
      "b    0.289914\n",
      "c    0.029839\n",
      "dtype: float64, 'b': a    0.751211\n",
      "b    0.135308\n",
      "c    0.918692\n",
      "d    0.734693\n",
      "dtype: float64}\n",
      "          a         b\n",
      "a  0.279846  0.751211\n",
      "b  0.289914  0.135308\n",
      "c  0.029839  0.918692\n",
      "d       NaN  0.734693\n"
     ]
    }
   ],
   "source": [
    "#设置了index的series\n",
    "data4 = {'a':pd.Series(np.random.rand(3),index = ['a','b','c']),\n",
    "         'b':pd.Series(np.random.rand(4),index = ['a','b','c','d'])} #有共同的index会自动对齐\n",
    "print(data4)\n",
    "print(pd.DataFrame(data4))"
   ]
  },
  {
   "cell_type": "code",
   "execution_count": 22,
   "metadata": {},
   "outputs": [
    {
     "name": "stdout",
     "output_type": "stream",
     "text": [
      "[[0.66447704 0.80698718 0.92179756 0.50504419]\n",
      " [0.51834952 0.84219159 0.53005625 0.55335233]\n",
      " [0.4153064  0.33702453 0.00766681 0.917189  ]\n",
      " [0.54536173 0.94748959 0.99710074 0.64999799]]\n",
      "          0         1         2         3\n",
      "0  0.664477  0.806987  0.921798  0.505044\n",
      "1  0.518350  0.842192  0.530056  0.553352\n",
      "2  0.415306  0.337025  0.007667  0.917189\n",
      "3  0.545362  0.947490  0.997101  0.649998\n"
     ]
    }
   ],
   "source": [
    "#通过二维数组直接创建，常用\n",
    "ar = np.random.rand(16).reshape(4,4) #index,columns默认\n",
    "print(ar)\n",
    "print(pd.DataFrame(ar))"
   ]
  },
  {
   "cell_type": "code",
   "execution_count": 24,
   "metadata": {},
   "outputs": [
    {
     "name": "stdout",
     "output_type": "stream",
     "text": [
      "        one       two     three      four\n",
      "a  0.719001  0.794373  0.667958  0.712699\n",
      "b  0.246288  0.672952  0.210079  0.941474\n",
      "c  0.545239  0.796584  0.387507  0.428865\n",
      "d  0.967464  0.576862  0.883373  0.026256\n"
     ]
    }
   ],
   "source": [
    "#设置行标签，列标签\n",
    "ar2 = np.random.rand(16).reshape(4,4)\n",
    "d2 = pd.DataFrame(ar2,\n",
    "                  index = ['a','b','c','d'],\n",
    "                  columns = ['one','two','three','four'])\n",
    "print(d2)"
   ]
  },
  {
   "cell_type": "code",
   "execution_count": 34,
   "metadata": {},
   "outputs": [
    {
     "name": "stdout",
     "output_type": "stream",
     "text": [
      "[{'a': 1, 'b': 3, 'c': 5}, {'a': 4, 'c': 6}]\n",
      "   a    b  c\n",
      "0  1  3.0  5\n",
      "1  4  NaN  6\n",
      "     a    b  c\n",
      "one  1  3.0  5\n",
      "two  4  NaN  6\n",
      "   a  c\n",
      "0  1  5\n",
      "1  4  6\n"
     ]
    }
   ],
   "source": [
    "#由字典组成的列表创建\n",
    "data = [{'a':1,'b':3,'c':5},{'a':4,'c':6}]\n",
    "print(data)\n",
    "print(pd.DataFrame(data))\n",
    "df1 = pd.DataFrame(data,index = ['one','two'])\n",
    "print(df1)\n",
    "df2 = pd.DataFrame(data,columns = ['a','c'])\n",
    "print(df2)\n",
    "#每个字典就是一行"
   ]
  },
  {
   "cell_type": "code",
   "execution_count": 42,
   "metadata": {},
   "outputs": [
    {
     "name": "stdout",
     "output_type": "stream",
     "text": [
      "{'Marry': {'Math': 85, 'English': 90, 'Chinese': 98}, 'Tom': {'Math': 87, 'English': 80, 'Chinese': 78}, 'Tony': {'Math': 97, 'English': 85, 'Chinese': 88}}\n",
      "         Marry  Tom  Tony\n",
      "Chinese     98   78    88\n",
      "English     90   80    85\n",
      "Math        85   87    97\n",
      "         Tom  Tony Nana\n",
      "Chinese   78    88  NaN\n",
      "English   80    85  NaN\n",
      "Math      87    97  NaN\n"
     ]
    }
   ],
   "source": [
    "#由字典组成的嵌套字典创建\n",
    "data = {'Marry':{'Math':85,'English':90,'Chinese':98},\n",
    "       'Tom':{'Math':87,'English':80,'Chinese':78},\n",
    "       'Tony':{'Math':97,'English':85,'Chinese':88}}\n",
    "print(data)\n",
    "df1 = pd.DataFrame(data)\n",
    "print(df1)\n",
    "df2 = pd.DataFrame(data,columns = ['Tom','Tony','Nana'])\n",
    "print(df2)"
   ]
  },
  {
   "cell_type": "code",
   "execution_count": 57,
   "metadata": {},
   "outputs": [
    {
     "name": "stdout",
     "output_type": "stream",
     "text": [
      "              a         b         c         d\n",
      "one    0.969503  0.919556  0.496090  0.673654\n",
      "two    0.824367  0.596875  0.248204  0.785938\n",
      "three  0.328655  0.045354  0.383566  0.038233\n",
      "one      0.969503\n",
      "two      0.824367\n",
      "three    0.328655\n",
      "Name: a, dtype: float64\n",
      "              a         b\n",
      "one    0.969503  0.919556\n",
      "two    0.824367  0.596875\n",
      "three  0.328655  0.045354\n",
      "one      0.969503\n",
      "two      0.824367\n",
      "three    0.328655\n",
      "Name: a, dtype: float64 <class 'pandas.core.series.Series'>\n",
      "              a         b\n",
      "one    0.969503  0.919556\n",
      "two    0.824367  0.596875\n",
      "three  0.328655  0.045354 <class 'pandas.core.frame.DataFrame'>\n"
     ]
    }
   ],
   "source": [
    "#索引\n",
    "#选择列\n",
    "data8 = pd.DataFrame(np.random.rand(12).reshape(3,4),\n",
    "                     index = ['one','two','three'],\n",
    "                    columns = ['a','b','c','d'])\n",
    "print(data8)\n",
    "print(data8['a'])\n",
    "print(data8[['a','b']])\n",
    "\n",
    "d1 = data8['a'] #Series的格式\n",
    "d2 = data8[['a','b']]\n",
    "print(d1,type(d1))\n",
    "\n",
    "print(d2,type(d2))\n",
    "#列显示字段，行显示哪些数据"
   ]
  },
  {
   "cell_type": "code",
   "execution_count": 62,
   "metadata": {},
   "outputs": [
    {
     "name": "stdout",
     "output_type": "stream",
     "text": [
      "a    0.969503\n",
      "b    0.919556\n",
      "c    0.496090\n",
      "d    0.673654\n",
      "Name: one, dtype: float64 <class 'pandas.core.series.Series'>\n",
      "            a         b         c         d\n",
      "one  0.969503  0.919556  0.496090  0.673654\n",
      "two  0.824367  0.596875  0.248204  0.785938 <class 'pandas.core.frame.DataFrame'>\n",
      "              a         b         c         d\n",
      "one    0.969503  0.919556  0.496090  0.673654\n",
      "two    0.824367  0.596875  0.248204  0.785938\n",
      "three  0.328655  0.045354  0.383566  0.038233\n",
      "            a         b        c         d\n",
      "one  0.969503  0.919556  0.49609  0.673654\n"
     ]
    }
   ],
   "source": [
    "#选择行\n",
    "d3 = data8.loc['one'] #location\n",
    "d4 = data8.loc[['one','two']]\n",
    "d5 = data8.loc['one': 'three'] #切片索引\n",
    "d6 = data8[:1] #切片可以选择行\n",
    "print(d3,type(d3))\n",
    "print(d4,type(d4))\n",
    "print(d5)\n",
    "print(d6)\n"
   ]
  },
  {
   "cell_type": "code",
   "execution_count": 68,
   "metadata": {},
   "outputs": [
    {
     "name": "stdout",
     "output_type": "stream",
     "text": [
      "            a         b         c         d\n",
      "one  0.969503  0.919556  0.496090  0.673654\n",
      "two  0.824367  0.596875  0.248204  0.785938\n",
      "              a         b         c         d\n",
      "one    0.969503  0.919556  0.496090  0.673654\n",
      "three  0.328655  0.045354  0.383566  0.038233\n",
      "              a         b         c         d\n",
      "one    0.969503  0.919556  0.496090  0.673654\n",
      "three  0.328655  0.045354  0.383566  0.038233\n"
     ]
    }
   ],
   "source": [
    "#按整数位置索引\n",
    "d7 = data8.iloc[:2]\n",
    "d8 = data8.iloc[[0,2]]\n",
    "d9 = data8.iloc[::2] #步长为2\n",
    "print(d7)\n",
    "print(d8)\n",
    "print(d9)"
   ]
  },
  {
   "cell_type": "code",
   "execution_count": 72,
   "metadata": {},
   "outputs": [
    {
     "name": "stdout",
     "output_type": "stream",
     "text": [
      "              a          b\n",
      "one    4.244194        NaN\n",
      "two         NaN  21.157575\n",
      "three       NaN  42.533616\n"
     ]
    }
   ],
   "source": [
    "data9 = pd.DataFrame(np.random.rand(12).reshape(3,4)*100,\n",
    "                     index = ['one','two','three'],\n",
    "                    columns = ['a','b','c','d'])\n",
    "print(data9[data9<50][['a','b']]) #布尔值的索引"
   ]
  },
  {
   "cell_type": "code",
   "execution_count": 84,
   "metadata": {},
   "outputs": [
    {
     "name": "stdout",
     "output_type": "stream",
     "text": [
      "           a          b          c          d          e          f\n",
      "0  61.059958   2.601107  48.169008  38.026860  32.622278  80.010640\n",
      "1  32.222679  28.331568  54.647430  38.435695  55.100053  13.688527\n",
      "           a          b          c          d          e          f\n",
      "0  61.059958   2.601107  48.169008  38.026860  32.622278  80.010640\n",
      "1  32.222679  28.331568  54.647430  38.435695  55.100053  13.688527\n",
      "2  90.186129   3.610997  13.142555  38.053479  78.520262  98.375332\n",
      "3  13.707661  16.760155  84.809958  36.634964  14.255557  90.344752\n",
      "4  99.870039   2.514177  85.625165  21.982258  97.600438  19.704403\n",
      "           a          b          c          d          e          f\n",
      "3  13.707661  16.760155  84.809958  36.634964  14.255557  90.344752\n",
      "4  99.870039   2.514177  85.625165  21.982258  97.600438  19.704403\n",
      "5  17.765865  51.894778  45.734802   4.398644   1.043791  36.537358\n"
     ]
    }
   ],
   "source": [
    "#数据查看\n",
    "df = pd.DataFrame(np.random.rand(36).reshape(6,6)*100,\n",
    "                 columns = ['a','b','c','d','e','f'])\n",
    "print(df.head(2)) #读取前2行\n",
    "print(df.head()) #默认读取前5行\n",
    "print(df.tail(3)) #读取倒数3行"
   ]
  },
  {
   "cell_type": "code",
   "execution_count": 89,
   "metadata": {},
   "outputs": [
    {
     "name": "stdout",
     "output_type": "stream",
     "text": [
      "          a         b         c\n",
      "0  0.970965  0.084652  0.028446\n",
      "1  0.419273  0.483627  0.173832\n",
      "2  0.135207  0.892209  0.724717\n",
      "3  0.274211  0.554758  0.004108\n",
      "          0         1         2         3\n",
      "a  0.970965  0.419273  0.135207  0.274211\n",
      "b  0.084652  0.483627  0.892209  0.554758\n",
      "c  0.028446  0.173832  0.724717  0.004108\n"
     ]
    }
   ],
   "source": [
    "#转置\n",
    "df = pd.DataFrame(np.random.rand(12).reshape(4,3),\n",
    "                 columns =['a','b','c'])\n",
    "print(df)\n",
    "print(df.T)"
   ]
  },
  {
   "cell_type": "code",
   "execution_count": 106,
   "metadata": {},
   "outputs": [
    {
     "name": "stdout",
     "output_type": "stream",
     "text": [
      "           a          b          c\n",
      "0  59.921725  61.661040   0.237721\n",
      "1  15.509540  38.513585  63.343545\n",
      "2  39.498502   0.994082  75.118724\n",
      "3  57.645440  69.170058   3.096471\n",
      "4  54.315586  16.489683   8.590913\n",
      "           a          b          c   d\n",
      "0  59.921725  61.661040   0.237721  10\n",
      "1  15.509540  38.513585  63.343545  10\n",
      "2  39.498502   0.994082  75.118724  10\n",
      "3  57.645440  69.170058   3.096471  10\n",
      "4  54.315586  16.489683   8.590913  10\n",
      "    a          b          c   d\n",
      "0  10  61.661040   0.237721  10\n",
      "1  10  38.513585  63.343545  10\n",
      "2  10   0.994082  75.118724  10\n",
      "3  10  10.000000  10.000000  10\n",
      "4  10  16.489683   8.590913  10\n",
      "    a          b   c   d\n",
      "0  10  61.661040  10  10\n",
      "1  10  38.513585  10  10\n",
      "2  10   0.994082  10  10\n",
      "3  10  10.000000  10  10\n",
      "4  10  16.489683  10  10\n",
      "     a           b    c    d\n",
      "0  101  101.000000  101  101\n",
      "1   10   38.513585   10   10\n",
      "2  101  101.000000  101  101\n",
      "3   10   10.000000   10   10\n",
      "4  101  101.000000  101  101\n",
      "     a           b    c    d\n",
      "0  101  101.000000  101  101\n",
      "1   10   38.513585   10   66\n",
      "2  101  101.000000  101  101\n",
      "3   10   10.000000   10   10\n",
      "4  101  101.000000  101  101\n"
     ]
    }
   ],
   "source": [
    "#添加/修改\n",
    "df = pd.DataFrame(np.random.rand(15).reshape(5,3)*100,\n",
    "                  columns = ['a','b','c'])\n",
    "print(df)\n",
    "df['d'] = 10\n",
    "print(df)\n",
    "\n",
    "df['a'] = 10\n",
    "df.loc[3] = 10\n",
    "print(df)\n",
    "\n",
    "df[['a','c']] = 10\n",
    "print(df)\n",
    "\n",
    "df.iloc[::2] = 101 #每格2个值\n",
    "print(df)\n",
    "\n",
    "df.iloc[1,3] = 66 #修改第2行第4列的值\n",
    "print(df)"
   ]
  },
  {
   "cell_type": "code",
   "execution_count": 115,
   "metadata": {},
   "outputs": [
    {
     "name": "stdout",
     "output_type": "stream",
     "text": [
      "          a         b         c         d\n",
      "0  0.303523  0.569139  0.090581  0.491177\n",
      "1  0.636114  0.070523  0.982844  0.193331\n",
      "2  0.867685  0.486970  0.513204  0.870943\n",
      "3  0.928792  0.493228  0.912969  0.820501\n",
      "4  0.556528  0.077212  0.186343  0.666177\n",
      "5  0.448867  0.981104  0.611875  0.790552\n",
      "          b         c         d\n",
      "0  0.569139  0.090581  0.491177\n",
      "1  0.070523  0.982844  0.193331\n",
      "2  0.486970  0.513204  0.870943\n",
      "3  0.493228  0.912969  0.820501\n",
      "4  0.077212  0.186343  0.666177\n",
      "5  0.981104  0.611875  0.790552\n",
      "          b         c         d\n",
      "1  0.070523  0.982844  0.193331\n",
      "2  0.486970  0.513204  0.870943\n",
      "3  0.493228  0.912969  0.820501\n",
      "4  0.077212  0.186343  0.666177\n",
      "5  0.981104  0.611875  0.790552\n",
      "          b         c         d\n",
      "0  0.569139  0.090581  0.491177\n",
      "3  0.493228  0.912969  0.820501\n",
      "4  0.077212  0.186343  0.666177\n",
      "5  0.981104  0.611875  0.790552\n",
      "          b         c         d\n",
      "0  0.569139  0.090581  0.491177\n",
      "1  0.070523  0.982844  0.193331\n",
      "2  0.486970  0.513204  0.870943\n",
      "3  0.493228  0.912969  0.820501\n",
      "4  0.077212  0.186343  0.666177\n",
      "5  0.981104  0.611875  0.790552\n",
      "          b         c\n",
      "0  0.569139  0.090581\n",
      "1  0.070523  0.982844\n",
      "2  0.486970  0.513204\n",
      "3  0.493228  0.912969\n",
      "4  0.077212  0.186343\n",
      "5  0.981104  0.611875\n"
     ]
    }
   ],
   "source": [
    "#del删除列 drop()删除行 改变原数据\n",
    "df = pd.DataFrame(np.random.rand(24).reshape(6,4),\n",
    "                 columns = ['a','b','c','d'])\n",
    "print(df)\n",
    "\n",
    "del df['a'] #删除列\n",
    "print(df)\n",
    "\n",
    "print(df.drop(0)) #删除某一行\n",
    "print(df.drop([1,2])) #删除两行\n",
    "print(df)\n",
    "\n",
    "print(df.drop(['d'],axis = 1)) #drop删除列需要加 axis = 1"
   ]
  },
  {
   "cell_type": "code",
   "execution_count": 119,
   "metadata": {},
   "outputs": [
    {
     "name": "stdout",
     "output_type": "stream",
     "text": [
      "          a         b         c         d\n",
      "0  0.298456  0.707518  0.625580  0.211512\n",
      "1  0.991312  0.345730  0.951755  0.459303\n",
      "2  0.990347  0.602283  0.593704  0.532188\n",
      "3  0.891477  0.744209  0.875900  0.630914\n",
      "4  0.046107  0.009885  0.622494  0.093538\n",
      "5  0.199633  0.787754  0.974963  0.493680\n",
      "          a         b         c\n",
      "0  0.291623  0.267662  0.051092\n",
      "1  0.002658  0.359728  0.807387\n",
      "2  0.908258  0.019918  0.656827\n",
      "3  0.222598  0.729508  0.273371\n",
      "4  0.332612  0.508623  0.006475\n",
      "          a         b         c   d\n",
      "0  0.590078  0.975181  0.676672 NaN\n",
      "1  0.993970  0.705457  1.759142 NaN\n",
      "2  1.898604  0.622201  1.250530 NaN\n",
      "3  1.114075  1.473717  1.149271 NaN\n",
      "4  0.378719  0.518508  0.628969 NaN\n",
      "5       NaN       NaN       NaN NaN\n"
     ]
    }
   ],
   "source": [
    "#对齐\n",
    "df1 = pd.DataFrame(np.random.rand(24).reshape(6,4),\n",
    "                  columns = ['a','b','c','d'])\n",
    "print(df1)\n",
    "df2 = pd.DataFrame(np.random.rand(15).reshape(5,3),\n",
    "                  columns = ['a','b','c'])\n",
    "print(df2)\n",
    "print(df1+df2)"
   ]
  },
  {
   "cell_type": "code",
   "execution_count": 122,
   "metadata": {},
   "outputs": [
    {
     "name": "stdout",
     "output_type": "stream",
     "text": [
      "          a         b         c         d\n",
      "0  0.175753  0.979781  0.377809  0.808286\n",
      "1  0.209039  0.005989  0.145313  0.490079\n",
      "2  0.761630  0.338166  0.826270  0.539370\n",
      "3  0.517063  0.852164  0.745061  0.816197\n",
      "4  0.719132  0.686007  0.141187  0.156538\n",
      "5  0.324683  0.424249  0.535395  0.194151\n",
      "          a         b         c         d\n",
      "0  0.175753  0.979781  0.377809  0.808286\n",
      "1  0.209039  0.005989  0.145313  0.490079\n",
      "5  0.324683  0.424249  0.535395  0.194151\n",
      "3  0.517063  0.852164  0.745061  0.816197\n",
      "4  0.719132  0.686007  0.141187  0.156538\n",
      "2  0.761630  0.338166  0.826270  0.539370\n",
      "          a         b         c         d\n",
      "2  0.761630  0.338166  0.826270  0.539370\n",
      "4  0.719132  0.686007  0.141187  0.156538\n",
      "3  0.517063  0.852164  0.745061  0.816197\n",
      "5  0.324683  0.424249  0.535395  0.194151\n",
      "1  0.209039  0.005989  0.145313  0.490079\n",
      "0  0.175753  0.979781  0.377809  0.808286\n"
     ]
    }
   ],
   "source": [
    "#排序 sort_values\n",
    "df = pd.DataFrame(np.random.rand(24).reshape(6,4),\n",
    "                 columns = ['a','b','c','d'])\n",
    "print(df)\n",
    "print(df.sort_values(['a'],ascending = True))  #升序,默认的(ascending升高的意思)\n",
    "print(df.sort_values(['a'],ascending = False)) #降序\n",
    "#单列排序"
   ]
  },
  {
   "cell_type": "code",
   "execution_count": 127,
   "metadata": {},
   "outputs": [
    {
     "name": "stdout",
     "output_type": "stream",
     "text": [
      "   a  b  c\n",
      "0  1  0  6\n",
      "1  1  1  5\n",
      "2  3  2  4\n",
      "3  2  3  3\n",
      "4  2  4  2\n",
      "5  3  5  1\n",
      "   a  b  c\n",
      "0  1  0  6\n",
      "1  1  1  5\n",
      "3  2  3  3\n",
      "4  2  4  2\n",
      "2  3  2  4\n",
      "5  3  5  1\n"
     ]
    }
   ],
   "source": [
    "#多列排序\n",
    "df = pd.DataFrame({'a':[1,1,3,2,2,3],\n",
    "                  'b':list(range(6)),\n",
    "                  'c':list(range(6,0,-1))})\n",
    "print(df)\n",
    "print(df.sort_values(['a','b'])) #先排a，再在a里面排b（a得有一样的值，多列才有意义）"
   ]
  },
  {
   "cell_type": "code",
   "execution_count": null,
   "metadata": {},
   "outputs": [],
   "source": []
  },
  {
   "cell_type": "code",
   "execution_count": null,
   "metadata": {},
   "outputs": [],
   "source": []
  }
 ],
 "metadata": {
  "kernelspec": {
   "display_name": "Python 3",
   "language": "python",
   "name": "python3"
  },
  "language_info": {
   "codemirror_mode": {
    "name": "ipython",
    "version": 3
   },
   "file_extension": ".py",
   "mimetype": "text/x-python",
   "name": "python",
   "nbconvert_exporter": "python",
   "pygments_lexer": "ipython3",
   "version": "3.7.1"
  }
 },
 "nbformat": 4,
 "nbformat_minor": 2
}
