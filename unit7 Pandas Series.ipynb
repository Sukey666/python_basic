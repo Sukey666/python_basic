{
 "cells": [
  {
   "cell_type": "code",
   "execution_count": 2,
   "metadata": {},
   "outputs": [],
   "source": [
    "#pandas,series一维数组,dataframe二维数组\n",
    "import numpy as np\n",
    "import pandas as pd"
   ]
  },
  {
   "cell_type": "code",
   "execution_count": 15,
   "metadata": {},
   "outputs": [
    {
     "name": "stdout",
     "output_type": "stream",
     "text": [
      "[0.0779415  0.13313978 0.90478355 0.47254717 0.68680594]\n",
      "0    0.077941\n",
      "1    0.133140\n",
      "2    0.904784\n",
      "3    0.472547\n",
      "4    0.686806\n",
      "dtype: float64 <class 'pandas.core.series.Series'>\n",
      "RangeIndex(start=0, stop=5, step=1)\n",
      "[0, 1, 2, 3, 4]\n",
      "[0.0779415  0.13313978 0.90478355 0.47254717 0.68680594]\n"
     ]
    }
   ],
   "source": [
    "#series 带标签的一维数组\n",
    "ar = np.random.rand(5)\n",
    "s = pd.Series(ar)\n",
    "print(ar)\n",
    "print(s,type(s))\n",
    "print(s.index) #index标签的意思，开始以0，结束以5，步长为1\n",
    "print(list(s.index))\n",
    "print(s.values) #values值的意思，一个数组\n",
    "#对比dict，series是有顺序的字典\n",
    "#对比nadarray，series是自带索引的数组，只看值就是nadarray"
   ]
  },
  {
   "cell_type": "code",
   "execution_count": 44,
   "metadata": {},
   "outputs": [
    {
     "name": "stdout",
     "output_type": "stream",
     "text": [
      "a    1\n",
      "b    2\n",
      "c    3\n",
      "dtype: int64\n"
     ]
    }
   ],
   "source": [
    "#由字典创建series，dict的key就是index,value就是series的value\n",
    "dic = {'a':1,'b':2,'c':3}\n",
    "s1 = pd.Series(dic)\n",
    "print(s1)"
   ]
  },
  {
   "cell_type": "code",
   "execution_count": 45,
   "metadata": {},
   "outputs": [
    {
     "name": "stdout",
     "output_type": "stream",
     "text": [
      "a     0.503006\n",
      "b    0.0880828\n",
      "c     0.580115\n",
      "d     0.560793\n",
      "e     0.619298\n",
      "f      0.20828\n",
      "g     0.758848\n",
      "h     0.894502\n",
      "i     0.509068\n",
      "j    0.0648102\n",
      "dtype: object\n"
     ]
    }
   ],
   "source": [
    "#由数组创建\n",
    "ar1 = np.random.rand(10)\n",
    "s2 = pd.Series(ar1,index=list('abcdefghij'),dtype=np.object)\n",
    "print(s2)"
   ]
  },
  {
   "cell_type": "code",
   "execution_count": 46,
   "metadata": {},
   "outputs": [
    {
     "name": "stdout",
     "output_type": "stream",
     "text": [
      "0    10\n",
      "1    10\n",
      "2    10\n",
      "3    10\n",
      "dtype: int64\n"
     ]
    }
   ],
   "source": [
    "#由标量创建（不是变量）\n",
    "s3 = pd.Series(10,index=range(4)) \n",
    "print(s3)"
   ]
  },
  {
   "cell_type": "code",
   "execution_count": 53,
   "metadata": {},
   "outputs": [
    {
     "name": "stdout",
     "output_type": "stream",
     "text": [
      "0    0.472347\n",
      "1    0.464390\n",
      "2    0.152849\n",
      "3    0.019601\n",
      "4    0.001779\n",
      "5    0.253927\n",
      "6    0.838572\n",
      "7    0.235571\n",
      "8    0.462910\n",
      "9    0.216131\n",
      "dtype: float64\n",
      "0.2539271390322809\n",
      "<class 'numpy.float64'>\n",
      "float64\n",
      "0.4643896181713817 <class 'numpy.float64'> float64\n"
     ]
    }
   ],
   "source": [
    "# 下标索引\n",
    "s4 = pd.Series(np.random.rand(10))\n",
    "print(s4)\n",
    "print(s4[5]) #第5个值\n",
    "print(type(s4[6])) #类型\n",
    "print(s4[7].dtype) #类型\n",
    "print(s4[1],type(s4[1]),s4[1].dtype)"
   ]
  },
  {
   "cell_type": "code",
   "execution_count": 55,
   "metadata": {},
   "outputs": [
    {
     "name": "stdout",
     "output_type": "stream",
     "text": [
      "a    0.144465\n",
      "b    0.839994\n",
      "c    0.861785\n",
      "d    0.343175\n",
      "e    0.038473\n",
      "dtype: float64\n",
      "0.14446495466080622\n",
      "a    0.144465\n",
      "b    0.839994\n",
      "dtype: float64\n"
     ]
    }
   ],
   "source": [
    "#标签索引\n",
    "s5 = pd.Series(np.random.rand(5),index=['a','b','c','d','e'])\n",
    "print(s5)\n",
    "print(s5['a'])\n",
    "print(s5[['a','b']]) #多标签加中括号"
   ]
  },
  {
   "cell_type": "code",
   "execution_count": 56,
   "metadata": {},
   "outputs": [
    {
     "name": "stdout",
     "output_type": "stream",
     "text": [
      "b    0.839994\n",
      "c    0.861785\n",
      "dtype: float64\n",
      "a    0.144465\n",
      "b    0.839994\n",
      "c    0.861785\n",
      "dtype: float64\n"
     ]
    }
   ],
   "source": [
    "#切片\n",
    "print(s5[1:3]) #下标\n",
    "print(s5['a':'c']) #标签，用index做切片是末端包含"
   ]
  },
  {
   "cell_type": "code",
   "execution_count": 68,
   "metadata": {},
   "outputs": [
    {
     "name": "stdout",
     "output_type": "stream",
     "text": [
      "0    13.7455\n",
      "1    84.5039\n",
      "2    67.5534\n",
      "3    79.0037\n",
      "5       None\n",
      "dtype: object\n",
      "0    False\n",
      "1     True\n",
      "2     True\n",
      "3     True\n",
      "5    False\n",
      "dtype: bool\n",
      "0    False\n",
      "1    False\n",
      "2    False\n",
      "3    False\n",
      "5     True\n",
      "dtype: bool\n",
      "0     True\n",
      "1     True\n",
      "2     True\n",
      "3     True\n",
      "5    False\n",
      "dtype: bool\n",
      "<class 'pandas.core.series.Series'> bool\n",
      "1    84.5039\n",
      "2    67.5534\n",
      "3    79.0037\n",
      "dtype: object\n",
      "0    13.7455\n",
      "1    84.5039\n",
      "2    67.5534\n",
      "3    79.0037\n",
      "dtype: object\n"
     ]
    }
   ],
   "source": [
    "#布尔型索引\n",
    "s6 = pd.Series(np.random.rand(4)*100)\n",
    "s6[5] = None #添加一个空值,或np.NaN\n",
    "print(s6)\n",
    "bs1 = s6 > 50\n",
    "print(bs1)\n",
    "bs2 = s6.isnull()\n",
    "print(bs2)\n",
    "bs3 = s6.notnull()\n",
    "print(bs3)\n",
    "print(type(bs3),bs3.dtype)\n",
    "print(s6[s6>50])\n",
    "print(s6[bs3])"
   ]
  },
  {
   "cell_type": "code",
   "execution_count": 72,
   "metadata": {},
   "outputs": [
    {
     "name": "stdout",
     "output_type": "stream",
     "text": [
      "0    0.559263\n",
      "1    0.897538\n",
      "2    0.034602\n",
      "3    0.777534\n",
      "4    0.633037\n",
      "dtype: float64\n",
      "10    0.325227\n",
      "11    0.038720\n",
      "12    0.726208\n",
      "13    0.368297\n",
      "14    0.349217\n",
      "dtype: float64\n"
     ]
    }
   ],
   "source": [
    "#数据查看\n",
    "s7 = pd.Series(np.random.rand(15))\n",
    "print(s7.head()) #默认前5个\n",
    "print(s7.tail()) #默认后5个，tail是尾巴的意思"
   ]
  },
  {
   "cell_type": "code",
   "execution_count": 79,
   "metadata": {},
   "outputs": [
    {
     "name": "stdout",
     "output_type": "stream",
     "text": [
      "a    0.717613\n",
      "b    0.537577\n",
      "c    0.385987\n",
      "d    0.524750\n",
      "e    0.770925\n",
      "dtype: float64\n",
      "c    0.385987\n",
      "d    0.524750\n",
      "f         NaN\n",
      "dtype: float64\n",
      "c    0.385987\n",
      "d    0.524750\n",
      "f    0.000000\n",
      "dtype: float64\n"
     ]
    }
   ],
   "source": [
    "#重新索引 reindex\n",
    "s8 = pd.Series(np.random.rand(5),index = ['a','b','c','d','e'])\n",
    "print(s8)\n",
    "s9 = s8.reindex(['c','d','f'])\n",
    "print(s9)\n",
    "s10 = s8.reindex(['c','d','f'],fill_value = 0) #缺失值填充为0\n",
    "print(s10)"
   ]
  },
  {
   "cell_type": "code",
   "execution_count": 85,
   "metadata": {},
   "outputs": [
    {
     "name": "stdout",
     "output_type": "stream",
     "text": [
      "Jack     0.041130\n",
      "Janny    0.094334\n",
      "Tom      0.797942\n",
      "Jack     0.484737\n",
      "dtype: float64\n",
      "Jack    0.041130\n",
      "Jack    0.484737\n",
      "dtype: float64\n",
      "Jack    0.988280\n",
      "Mack    0.715215\n",
      "Tom     0.900841\n",
      "dtype: float64\n",
      "Jack     1.029409\n",
      "Jack     1.473017\n",
      "Janny         NaN\n",
      "Mack          NaN\n",
      "Tom      1.698783\n",
      "dtype: float64\n"
     ]
    }
   ],
   "source": [
    "#对齐(根据索引相加)\n",
    "s11 = pd.Series(np.random.rand(4),index = ['Jack','Janny','Tom','Jack']) #index可以一样\n",
    "print(s11)\n",
    "print(s11['Jack'])\n",
    "s12  = pd.Series(np.random.rand(3),index = ['Jack','Mack','Tom'])\n",
    "print(s12)\n",
    "print(s11+s12)"
   ]
  },
  {
   "cell_type": "code",
   "execution_count": 96,
   "metadata": {},
   "outputs": [
    {
     "name": "stdout",
     "output_type": "stream",
     "text": [
      "b    0.527934\n",
      "c    0.717318\n",
      "d    0.735409\n",
      "e    0.931998\n",
      "dtype: float64\n",
      "a    0.799727\n",
      "b    0.527934\n",
      "c    0.717318\n",
      "d    0.735409\n",
      "dtype: float64\n",
      "None\n",
      "a    0.799727\n",
      "b    0.527934\n",
      "d    0.735409\n",
      "e    0.931998\n",
      "dtype: float64\n"
     ]
    }
   ],
   "source": [
    "#删除 drop\n",
    "s13 = pd.Series(np.random.rand(5),index = list('abcde'))\n",
    "s14 = s13.drop('a')\n",
    "print(s14)\n",
    "print(s13.drop('e'))\n",
    "s15 = s13.drop('c',inplace = True) #加上inplace会作用于原数组\n",
    "print(s15)\n",
    "print(s13)"
   ]
  },
  {
   "cell_type": "code",
   "execution_count": 105,
   "metadata": {},
   "outputs": [
    {
     "name": "stdout",
     "output_type": "stream",
     "text": [
      "0      0.975414\n",
      "1      0.469384\n",
      "2      0.381429\n",
      "4    100.000000\n",
      "dtype: float64\n",
      "a      0.536451\n",
      "b      0.994135\n",
      "c      0.866901\n",
      "e    100.000000\n",
      "dtype: float64\n",
      "a      0.536451\n",
      "b      0.994135\n",
      "c      0.866901\n",
      "e    100.000000\n",
      "0      0.975414\n",
      "1      0.469384\n",
      "2      0.381429\n",
      "4    100.000000\n",
      "dtype: float64\n"
     ]
    }
   ],
   "source": [
    "#添加\n",
    "s16 = pd.Series(np.random.rand(3))\n",
    "s16[4] = 100\n",
    "print(s16)\n",
    "\n",
    "s17 = pd.Series(np.random.rand(3),index = list('abc'))\n",
    "s17['e'] = 100\n",
    "print(s17)\n",
    "\n",
    "s18 = s17.append(s16) #直接添加一个数组\n",
    "print(s18)"
   ]
  },
  {
   "cell_type": "code",
   "execution_count": null,
   "metadata": {},
   "outputs": [],
   "source": []
  }
 ],
 "metadata": {
  "kernelspec": {
   "display_name": "Python 3",
   "language": "python",
   "name": "python3"
  },
  "language_info": {
   "codemirror_mode": {
    "name": "ipython",
    "version": 3
   },
   "file_extension": ".py",
   "mimetype": "text/x-python",
   "name": "python",
   "nbconvert_exporter": "python",
   "pygments_lexer": "ipython3",
   "version": "3.7.1"
  }
 },
 "nbformat": 4,
 "nbformat_minor": 2
}
